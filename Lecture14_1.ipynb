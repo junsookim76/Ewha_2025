{
  "nbformat": 4,
  "nbformat_minor": 0,
  "metadata": {
    "colab": {
      "provenance": [],
      "authorship_tag": "ABX9TyNT0CVkegEhGlCuSTkdH4qx",
      "include_colab_link": true
    },
    "kernelspec": {
      "name": "python3",
      "display_name": "Python 3"
    },
    "language_info": {
      "name": "python"
    }
  },
  "cells": [
    {
      "cell_type": "markdown",
      "metadata": {
        "id": "view-in-github",
        "colab_type": "text"
      },
      "source": [
        "<a href=\"https://colab.research.google.com/github/junsookim76/Ewha_2023/blob/main/Lecture14_1.ipynb\" target=\"_parent\"><img src=\"https://colab.research.google.com/assets/colab-badge.svg\" alt=\"Open In Colab\"/></a>"
      ]
    },
    {
      "cell_type": "code",
      "execution_count": 1,
      "metadata": {
        "id": "cmTXkafUTM3V"
      },
      "outputs": [],
      "source": [
        "import numpy as np\n",
        "import matplotlib.pyplot as plt\n",
        "\n",
        "%matplotlib inline "
      ]
    },
    {
      "cell_type": "code",
      "source": [
        "#a=beta hc\n",
        "a=1/207.225 \n",
        "\n",
        "#b= B~\n",
        "b=10.591"
      ],
      "metadata": {
        "id": "VZvCKHTTTzns"
      },
      "execution_count": 2,
      "outputs": []
    },
    {
      "cell_type": "code",
      "source": [
        "calc0=np.zeros(30)\n",
        "\n",
        "for j in np.arange(30):\n",
        "  calc0[j]=(2*j+1)*np.exp(-a*b*j*(j+1))\n",
        "#  print(j,calc)\n",
        "\n",
        "#print(calc0)\n",
        "\n",
        "qr=np.sum(calc0[:])\n",
        "print(qr)"
      ],
      "metadata": {
        "colab": {
          "base_uri": "https://localhost:8080/"
        },
        "id": "Gr-YE2skUJIx",
        "outputId": "db3f6284-a83d-408b-9732-29feba748458"
      },
      "execution_count": 7,
      "outputs": [
        {
          "output_type": "stream",
          "name": "stdout",
          "text": [
            "19.90291524445614\n"
          ]
        }
      ]
    },
    {
      "cell_type": "code",
      "source": [
        "j0=np.arange(0,30)\n",
        "print(j0)"
      ],
      "metadata": {
        "colab": {
          "base_uri": "https://localhost:8080/"
        },
        "id": "YKPLT10_VIya",
        "outputId": "017b5b7e-97b1-4f38-bcde-900934316e4f"
      },
      "execution_count": 9,
      "outputs": [
        {
          "output_type": "stream",
          "name": "stdout",
          "text": [
            "[ 0  1  2  3  4  5  6  7  8  9 10 11 12 13 14 15 16 17 18 19 20 21 22 23\n",
            " 24 25 26 27 28 29]\n"
          ]
        }
      ]
    },
    {
      "cell_type": "code",
      "source": [
        "plt.plot(j0,calc0,'s')"
      ],
      "metadata": {
        "colab": {
          "base_uri": "https://localhost:8080/",
          "height": 448
        },
        "id": "2u93rOy4ayl5",
        "outputId": "d715f455-019d-44ad-e695-5de00f47ae38"
      },
      "execution_count": 15,
      "outputs": [
        {
          "output_type": "execute_result",
          "data": {
            "text/plain": [
              "[<matplotlib.lines.Line2D at 0x7f670f229fc0>]"
            ]
          },
          "metadata": {},
          "execution_count": 15
        },
        {
          "output_type": "display_data",
          "data": {
            "text/plain": [
              "<Figure size 640x480 with 1 Axes>"
            ],
            "image/png": "[encoded data removed]"
          },
          "metadata": {}
        }
      ]
    },
    {
      "cell_type": "code",
      "source": [
        "fig, ax = plt.subplots()\n",
        "\n",
        "ax.bar(j0,calc0)\n",
        "\n",
        "plt.ylim(0, 4.5)\n",
        "plt.xlim(-0.5, 15)\n",
        "plt.xticks(np.arange(0., 15, 1))\n",
        "plt.xlabel('$J$', labelpad=20)\n",
        "plt.ylabel('$q$', labelpad=20)"
      ],
      "metadata": {
        "colab": {
          "base_uri": "https://localhost:8080/",
          "height": 498
        },
        "id": "ObXIlJA3a8LM",
        "outputId": "103bf817-ff49-4420-b8dd-eb81a938631e"
      },
      "execution_count": 19,
      "outputs": [
        {
          "output_type": "execute_result",
          "data": {
            "text/plain": [
              "Text(0, 0.5, '$q$')"
            ]
          },
          "metadata": {},
          "execution_count": 19
        },
        {
          "output_type": "display_data",
          "data": {
            "text/plain": [
              "<Figure size 640x480 with 1 Axes>"
            ],
            "image/png": "[encoded data removed]"
          },
          "metadata": {}
        }
      ]
    },
    {
      "cell_type": "code",
      "source": [],
      "metadata": {
        "id": "gPKKctc0gB9_"
      },
      "execution_count": null,
      "outputs": []
    },
    {
      "cell_type": "markdown",
      "source": [
        "2. Arrhenius Parameter"
      ],
      "metadata": {
        "id": "CB72b7F_hSmK"
      }
    },
    {
      "cell_type": "code",
      "source": [
        "import numpy as np\n",
        "from scipy.optimize import curve_fit\n",
        "\n",
        "import matplotlib.pyplot as plt\n",
        "\n",
        "%matplotlib inline "
      ],
      "metadata": {
        "id": "x_GBu8AWhVjW"
      },
      "execution_count": 20,
      "outputs": []
    },
    {
      "cell_type": "code",
      "source": [
        "kr=np.array([0.011,0.035,0.105,0.343,0.789,2.17,20.0,145])\n",
        "print(type(kr))\n",
        "print(kr.shape)\n",
        "print(kr)"
      ],
      "metadata": {
        "colab": {
          "base_uri": "https://localhost:8080/"
        },
        "id": "5ANZn-2chjCQ",
        "outputId": "12d607c5-9333-4be2-f385-e9e39ebfdf0c"
      },
      "execution_count": 24,
      "outputs": [
        {
          "output_type": "stream",
          "name": "stdout",
          "text": [
            "<class 'numpy.ndarray'>\n",
            "(8,)\n",
            "[1.10e-02 3.50e-02 1.05e-01 3.43e-01 7.89e-01 2.17e+00 2.00e+01 1.45e+02]\n"
          ]
        }
      ]
    },
    {
      "cell_type": "code",
      "source": [
        "temp=np.array([700,730,760,790,810,840,910,1000])"
      ],
      "metadata": {
        "id": "w-QHq35th6YZ"
      },
      "execution_count": 25,
      "outputs": []
    },
    {
      "cell_type": "code",
      "source": [
        "lkr=np.log(kr)\n",
        "print(lkr)"
      ],
      "metadata": {
        "colab": {
          "base_uri": "https://localhost:8080/"
        },
        "id": "IpS6KXXPiOKm",
        "outputId": "025a4845-da39-4235-c754-16be5898604b"
      },
      "execution_count": 26,
      "outputs": [
        {
          "output_type": "stream",
          "name": "stdout",
          "text": [
            "[-4.50986001 -3.35240722 -2.25379493 -1.07002483 -0.23698896  0.77472717\n",
            "  2.99573227  4.97673374]\n"
          ]
        }
      ]
    },
    {
      "cell_type": "code",
      "source": [
        "rtemp=1000/temp\n",
        "print(rtemp)"
      ],
      "metadata": {
        "colab": {
          "base_uri": "https://localhost:8080/"
        },
        "id": "R7qruZ_hisfA",
        "outputId": "c3cf7855-a7be-4c3f-a3fe-643bf6e35f31"
      },
      "execution_count": 27,
      "outputs": [
        {
          "output_type": "stream",
          "name": "stdout",
          "text": [
            "[1.42857143 1.36986301 1.31578947 1.26582278 1.2345679  1.19047619\n",
            " 1.0989011  1.        ]\n"
          ]
        }
      ]
    },
    {
      "cell_type": "code",
      "source": [
        "fig, ax = plt.subplots(figsize=(6, 4))\n",
        "\n",
        "\n",
        "ax.plot(rtemp, lkr, label='Exp', color='black', linestyle=\"None\",\\\n",
        "         marker='s', markersize=10, markeredgewidth=1, markeredgecolor='black', mfc='crimson')\n",
        "\n",
        "\n",
        "plt.xlabel('$1000/T$', labelpad=20)\n",
        "plt.ylabel('$ln kr$', labelpad=20)\n",
        "\n",
        "plt.ylim(-6, 6)\n",
        "\n",
        "plt.rc('xtick', labelsize=10) \n",
        "plt.rc('ytick', labelsize=10) \n",
        "plt.rc('axes', labelsize=20) # fontsize of the x and y labels\n",
        "\n",
        "ax.legend(edgecolor='none',bbox_to_anchor=(0.95,0.9), prop={'size': 15})\n"
      ],
      "metadata": {
        "colab": {
          "base_uri": "https://localhost:8080/",
          "height": 448
        },
        "id": "Jn7HC9b3i9Dx",
        "outputId": "92587913-dce9-4eb7-ddd3-62ca167bf2b1"
      },
      "execution_count": 41,
      "outputs": [
        {
          "output_type": "execute_result",
          "data": {
            "text/plain": [
              "<matplotlib.legend.Legend at 0x7f67064366b0>"
            ]
          },
          "metadata": {},
          "execution_count": 41
        },
        {
          "output_type": "display_data",
          "data": {
            "text/plain": [
              "<Figure size 600x400 with 1 Axes>"
            ],
            "image/png": "[encoded data removed]"
          },
          "metadata": {}
        }
      ]
    },
    {
      "cell_type": "code",
      "source": [
        "def func(x, a0, a1):\n",
        "    return a0*x+a1\n",
        "\n",
        "# Linear curve fitting    \n",
        "popt1, pcov1 = curve_fit(func, rtemp, lkr)\n",
        "        \n",
        "# Calcultate r square value\n",
        "residuals1 = lkr - func(rtemp, *popt1)\n",
        "ss_res1 = np.sum(residuals1**2)    \n",
        "ss_tot1 = np.sum((lkr-np.mean(lkr))**2)\n",
        "r_squared1 = 1 - (ss_res1 / ss_tot1)\n",
        "    \n",
        "print('\\nCurve Fit : y = %.3f*x+%.3f --> R^2 = %.3f' % (popt1[0], popt1[1], r_squared1))\n",
        "\n",
        "print('\\nSlope = %.5f' % (popt1[0]))\n",
        "print('Intercept = %.5f \\n' % (popt1[1]))\n",
        "\n",
        "ea=-popt1[0]*1000*8.3145\n",
        "prea=np.exp(popt1[1])\n",
        "\n",
        "print('\\nActivation Energy = %.3e J/mol' %ea)\n",
        "print('PreExponential Factor = %.3e dm^3/mol/s' %prea)"
      ],
      "metadata": {
        "colab": {
          "base_uri": "https://localhost:8080/"
        },
        "id": "C212PBOxkQXz",
        "outputId": "a3a833b7-bb6a-4056-cef3-e0efd151a8d2"
      },
      "execution_count": 51,
      "outputs": [
        {
          "output_type": "stream",
          "name": "stdout",
          "text": [
            "\n",
            "Curve Fit : y = -22.651*x+27.707 --> R^2 = 0.999\n",
            "\n",
            "Slope = -22.65075\n",
            "Intercept = 27.70711 \n",
            "\n",
            "\n",
            "Activation Energy = 1.883e+05 J/mol\n",
            "PreExponential Factor = 1.079e+12 dm^3/mol/s\n"
          ]
        }
      ]
    },
    {
      "cell_type": "code",
      "source": [
        "fig, ax = plt.subplots(figsize=(6, 4))\n",
        "\n",
        "\n",
        "ax.plot(rtemp, lkr, label='Exp', color='black', linestyle=\"None\",\\\n",
        "         marker='s', markersize=10, markeredgewidth=1, markeredgecolor='black', mfc='crimson')\n",
        "\n",
        "ax.plot(rtemp, func(rtemp, popt1[0], popt1[1]), label=r'$%.5f*x+%.5f$' %(popt1[0],popt1[1]), linewidth= 2, linestyle='--', color='black')\n",
        "\n",
        "plt.xlabel('$1000/T$', labelpad=20)\n",
        "plt.ylabel('$ln kr$', labelpad=20)\n",
        "\n",
        "plt.ylim(-6, 6)\n",
        "\n",
        "plt.rc('xtick', labelsize=10) \n",
        "plt.rc('ytick', labelsize=10) \n",
        "plt.rc('axes', labelsize=20) # fontsize of the x and y labels\n",
        "\n",
        "ax.legend(edgecolor='none',bbox_to_anchor=(0.95,0.9), prop={'size': 15})\n",
        "\n"
      ],
      "metadata": {
        "colab": {
          "base_uri": "https://localhost:8080/",
          "height": 417
        },
        "id": "_42ctl-_nUR6",
        "outputId": "c24feec7-3d1c-4425-fff1-f322436799c4"
      },
      "execution_count": 43,
      "outputs": [
        {
          "output_type": "execute_result",
          "data": {
            "text/plain": [
              "<matplotlib.legend.Legend at 0x7f67062b3490>"
            ]
          },
          "metadata": {},
          "execution_count": 43
        },
        {
          "output_type": "display_data",
          "data": {
            "text/plain": [
              "<Figure size 600x400 with 1 Axes>"
            ],
            "image/png": "[encoded data removed]"
          },
          "metadata": {}
        }
      ]
    },
    {
      "cell_type": "code",
      "source": [],
      "metadata": {
        "id": "8fCLxn0YnqWy"
      },
      "execution_count": null,
      "outputs": []
    }
  ]
}