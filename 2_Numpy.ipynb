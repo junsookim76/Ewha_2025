{
  "cells": [
    {
      "cell_type": "markdown",
      "metadata": {
        "id": "view-in-github",
        "colab_type": "text"
      },
      "source": [
        "<a href=\"https://colab.research.google.com/github/junsookim76/Ewha_2025/blob/main/2_Numpy.ipynb\" target=\"_parent\"><img src=\"https://colab.research.google.com/assets/colab-badge.svg\" alt=\"Open In Colab\"/></a>"
      ]
    },
    {
      "cell_type": "markdown",
      "metadata": {
        "id": "0qrIIE97B9Gx"
      },
      "source": [
        "# Numpy\n",
        "\n",
        "> Import \"numpy\"\n",
        ">\n",
        "> The fundamental package for scientific computing with Python\n"
      ]
    },
    {
      "cell_type": "code",
      "execution_count": 1,
      "metadata": {
        "id": "CKS9A6d6B9Gy"
      },
      "outputs": [],
      "source": [
        "import numpy as np\n",
        "\n",
        "import matplotlib.pyplot as plt\n",
        "import sys,os,copy,random,math\n",
        "%matplotlib inline"
      ]
    },
    {
      "cell_type": "markdown",
      "metadata": {
        "id": "QUkBYTTzB9Gz"
      },
      "source": [
        "## **1. Introducing numpy array**"
      ]
    },
    {
      "cell_type": "code",
      "execution_count": 2,
      "metadata": {
        "id": "DgQ3bsT8B9Gz",
        "outputId": "d14a69f3-9136-45cc-cbd6-49022782bd6c",
        "colab": {
          "base_uri": "https://localhost:8080/"
        }
      },
      "outputs": [
        {
          "output_type": "stream",
          "name": "stdout",
          "text": [
            "[1, 2, 3, 4, 5, 6, 7, 8]\n",
            "<class 'list'>\n",
            "8\n",
            "<class 'numpy.ndarray'>\n",
            "[1 2 3 4 5 6 7 8]\n",
            "int64\n",
            "(8,)\n"
          ]
        }
      ],
      "source": [
        "array=[1,2,3,4,5,6,7,8]\n",
        "\n",
        "print(array)\n",
        "print(type(array))\n",
        "print(len(array))\n",
        "\n",
        "numpy_array=np.array(array)\n",
        "print(type(numpy_array))\n",
        "print(numpy_array)\n",
        "print(numpy_array.dtype)\n",
        "print(numpy_array.shape)"
      ]
    },
    {
      "cell_type": "code",
      "source": [
        "array2=2*array\n",
        "\n",
        "print(array)\n",
        "print(array2)\n",
        "\n",
        "numpy_array2=2*numpy_array\n",
        "print(numpy_array)\n",
        "print(numpy_array2)\n"
      ],
      "metadata": {
        "colab": {
          "base_uri": "https://localhost:8080/"
        },
        "id": "2e8rxExF9ekU",
        "outputId": "33344913-7d3d-4bfb-f540-e147029ee6a9"
      },
      "execution_count": 3,
      "outputs": [
        {
          "output_type": "stream",
          "name": "stdout",
          "text": [
            "[1, 2, 3, 4, 5, 6, 7, 8]\n",
            "[1, 2, 3, 4, 5, 6, 7, 8, 1, 2, 3, 4, 5, 6, 7, 8]\n",
            "[1 2 3 4 5 6 7 8]\n",
            "[ 2  4  6  8 10 12 14 16]\n"
          ]
        }
      ]
    },
    {
      "cell_type": "code",
      "source": [
        "numpy_array3=np.array([1,2,3,4,5,6,7,8])\n",
        "print(type(numpy_array3))\n",
        "print(numpy_array3)\n",
        "print(numpy_array3.dtype)\n",
        "print(numpy_array3.shape)\n"
      ],
      "metadata": {
        "colab": {
          "base_uri": "https://localhost:8080/"
        },
        "id": "1OFY_ft-ABMN",
        "outputId": "4c09b2d4-d105-4447-8e55-a9117014b909"
      },
      "execution_count": 4,
      "outputs": [
        {
          "output_type": "stream",
          "name": "stdout",
          "text": [
            "<class 'numpy.ndarray'>\n",
            "[1 2 3 4 5 6 7 8]\n",
            "int64\n",
            "(8,)\n"
          ]
        }
      ]
    },
    {
      "cell_type": "code",
      "source": [
        "numpy_array4=np.arange(1,9)\n",
        "print(type(numpy_array4))\n",
        "print(numpy_array4)\n",
        "print(numpy_array4.dtype)\n",
        "print(numpy_array4.shape)\n"
      ],
      "metadata": {
        "colab": {
          "base_uri": "https://localhost:8080/"
        },
        "id": "rZmUcH9dAI6p",
        "outputId": "0ea85309-5b57-4ce4-bd42-067b66eea68e"
      },
      "execution_count": 5,
      "outputs": [
        {
          "output_type": "stream",
          "name": "stdout",
          "text": [
            "<class 'numpy.ndarray'>\n",
            "[1 2 3 4 5 6 7 8]\n",
            "int64\n",
            "(8,)\n"
          ]
        }
      ]
    },
    {
      "cell_type": "markdown",
      "metadata": {
        "id": "QXfWUrkdB9G0"
      },
      "source": [
        "## **2. Change array shape**"
      ]
    },
    {
      "cell_type": "code",
      "execution_count": 6,
      "metadata": {
        "id": "LCUDgq1oB9G0",
        "outputId": "a42471be-b91d-4424-8ea4-153b2c558ef1",
        "colab": {
          "base_uri": "https://localhost:8080/"
        }
      },
      "outputs": [
        {
          "output_type": "stream",
          "name": "stdout",
          "text": [
            "[[1 2 3 4]\n",
            " [5 6 7 8]]\n",
            "(2, 4)\n"
          ]
        }
      ],
      "source": [
        "new_array=np.reshape(array,(2,4))\n",
        "print(new_array)\n",
        "print(new_array.shape)"
      ]
    },
    {
      "cell_type": "code",
      "execution_count": 7,
      "metadata": {
        "id": "ZnMgZCsgB9G0",
        "outputId": "513c0fcc-4f24-4615-fa4e-793b3d73182d",
        "colab": {
          "base_uri": "https://localhost:8080/"
        }
      },
      "outputs": [
        {
          "output_type": "stream",
          "name": "stdout",
          "text": [
            "[[1 2 3 4]\n",
            " [5 6 7 8]]\n"
          ]
        }
      ],
      "source": [
        "new_array=np.reshape(array,(2,-1))\n",
        "print(new_array)"
      ]
    },
    {
      "cell_type": "markdown",
      "metadata": {
        "id": "1uCwqh0QB9G0"
      },
      "source": [
        "## **3.Indexing and slicing**"
      ]
    },
    {
      "cell_type": "code",
      "execution_count": 8,
      "metadata": {
        "id": "Bj95RfQAB9G0",
        "outputId": "c7e348d1-9e5d-4167-e9cb-852ffe5f8602",
        "colab": {
          "base_uri": "https://localhost:8080/"
        }
      },
      "outputs": [
        {
          "output_type": "stream",
          "name": "stdout",
          "text": [
            "7\n",
            "7\n"
          ]
        }
      ],
      "source": [
        "print(new_array[1,2])\n",
        "print(new_array[1][2])"
      ]
    },
    {
      "cell_type": "code",
      "execution_count": 9,
      "metadata": {
        "id": "DBzTj1H9B9G1",
        "outputId": "0e674ae4-a110-4d03-9d74-7ffa00768acc",
        "colab": {
          "base_uri": "https://localhost:8080/"
        }
      },
      "outputs": [
        {
          "output_type": "execute_result",
          "data": {
            "text/plain": [
              "array([5, 6, 7, 8])"
            ]
          },
          "metadata": {},
          "execution_count": 9
        }
      ],
      "source": [
        "new_array[1,:]"
      ]
    },
    {
      "cell_type": "code",
      "execution_count": 10,
      "metadata": {
        "id": "mwFXnYxFB9G1",
        "outputId": "1e54d9f6-f043-4993-cbf7-b3aa44b1bd84",
        "colab": {
          "base_uri": "https://localhost:8080/"
        }
      },
      "outputs": [
        {
          "output_type": "execute_result",
          "data": {
            "text/plain": [
              "array([1, 3])"
            ]
          },
          "metadata": {},
          "execution_count": 10
        }
      ],
      "source": [
        "new_array[0,::2]"
      ]
    },
    {
      "cell_type": "code",
      "execution_count": 11,
      "metadata": {
        "id": "PJ0B7tJfB9G1",
        "outputId": "1d593c75-af38-4a81-b656-edd95f33ef55",
        "colab": {
          "base_uri": "https://localhost:8080/"
        }
      },
      "outputs": [
        {
          "output_type": "execute_result",
          "data": {
            "text/plain": [
              "array([2, 4])"
            ]
          },
          "metadata": {},
          "execution_count": 11
        }
      ],
      "source": [
        "new_array[0,1::2]"
      ]
    },
    {
      "cell_type": "code",
      "execution_count": 12,
      "metadata": {
        "id": "A9Gc1_dmB9G1",
        "outputId": "c23b5236-be21-49f3-c128-200f52ae3ebc",
        "colab": {
          "base_uri": "https://localhost:8080/"
        }
      },
      "outputs": [
        {
          "output_type": "execute_result",
          "data": {
            "text/plain": [
              "array([[1, 2],\n",
              "       [5, 6]])"
            ]
          },
          "metadata": {},
          "execution_count": 12
        }
      ],
      "source": [
        "array2=new_array[:,:2]\n",
        "array2"
      ]
    },
    {
      "cell_type": "code",
      "execution_count": 13,
      "metadata": {
        "id": "D2XgxF3EB9G1",
        "outputId": "c891a7b4-0451-4ff8-cee9-4374cf41640d",
        "colab": {
          "base_uri": "https://localhost:8080/"
        }
      },
      "outputs": [
        {
          "output_type": "execute_result",
          "data": {
            "text/plain": [
              "array([[0., 0., 0., 0., 0., 0., 0., 0.],\n",
              "       [0., 0., 0., 0., 0., 0., 0., 0.],\n",
              "       [0., 0., 0., 0., 0., 0., 0., 0.],\n",
              "       [0., 0., 0., 0., 0., 0., 0., 0.],\n",
              "       [0., 0., 0., 0., 0., 0., 0., 0.],\n",
              "       [0., 0., 0., 0., 0., 0., 0., 0.],\n",
              "       [0., 0., 0., 0., 0., 0., 0., 0.],\n",
              "       [0., 0., 0., 0., 0., 0., 0., 0.]])"
            ]
          },
          "metadata": {},
          "execution_count": 13
        }
      ],
      "source": [
        "new2=np.zeros((8,8))\n",
        "new2"
      ]
    },
    {
      "cell_type": "code",
      "execution_count": 14,
      "metadata": {
        "id": "y-iRrz8SB9G2",
        "outputId": "a3b23928-4af2-45da-c897-b342e196ff4b",
        "colab": {
          "base_uri": "https://localhost:8080/"
        }
      },
      "outputs": [
        {
          "output_type": "execute_result",
          "data": {
            "text/plain": [
              "array([[0., 0., 0., 0., 0., 0., 0., 0.],\n",
              "       [0., 0., 0., 0., 0., 0., 0., 0.],\n",
              "       [0., 0., 0., 0., 1., 0., 2., 0.],\n",
              "       [0., 0., 0., 0., 0., 0., 0., 0.],\n",
              "       [0., 0., 0., 0., 0., 0., 0., 0.],\n",
              "       [0., 0., 0., 0., 5., 0., 6., 0.],\n",
              "       [0., 0., 0., 0., 0., 0., 0., 0.],\n",
              "       [0., 0., 0., 0., 0., 0., 0., 0.]])"
            ]
          },
          "metadata": {},
          "execution_count": 14
        }
      ],
      "source": [
        "new2[2::3,4::2]=array2\n",
        "new2"
      ]
    },
    {
      "cell_type": "code",
      "execution_count": 15,
      "metadata": {
        "id": "_6OEjcwrB9G2",
        "outputId": "c10ff6c9-7a6b-4ac8-e7f4-7e26c8bbbbc1",
        "colab": {
          "base_uri": "https://localhost:8080/"
        }
      },
      "outputs": [
        {
          "output_type": "stream",
          "name": "stdout",
          "text": [
            "[[1 2 3 4]\n",
            " [5 6 7 8]]\n"
          ]
        },
        {
          "output_type": "execute_result",
          "data": {
            "text/plain": [
              "array([[False, False,  True,  True],\n",
              "       [ True,  True,  True,  True]])"
            ]
          },
          "metadata": {},
          "execution_count": 15
        }
      ],
      "source": [
        "print(new_array)\n",
        "new_array>2"
      ]
    },
    {
      "cell_type": "code",
      "execution_count": 16,
      "metadata": {
        "id": "GpHJs-E0B9G2",
        "outputId": "657f4ff1-4664-495f-a929-65ebe28d9028",
        "colab": {
          "base_uri": "https://localhost:8080/"
        }
      },
      "outputs": [
        {
          "output_type": "execute_result",
          "data": {
            "text/plain": [
              "array([3, 4, 5, 6, 7, 8])"
            ]
          },
          "metadata": {},
          "execution_count": 16
        }
      ],
      "source": [
        "new_array[new_array>2]"
      ]
    },
    {
      "cell_type": "markdown",
      "metadata": {
        "id": "yj_jGZu1B9G2"
      },
      "source": [
        "## **4.Calculation**"
      ]
    },
    {
      "cell_type": "code",
      "execution_count": 27,
      "metadata": {
        "id": "HUIuEhlRB9G2",
        "outputId": "73c36700-4c2e-4cc6-be92-0e037cccd80d",
        "colab": {
          "base_uri": "https://localhost:8080/"
        }
      },
      "outputs": [
        {
          "output_type": "stream",
          "name": "stdout",
          "text": [
            "[[1 2 3 4]\n",
            " [5 6 7 8]]\n",
            "(2, 4)\n"
          ]
        }
      ],
      "source": [
        "print(new_array)\n",
        "print(new_array.shape)"
      ]
    },
    {
      "cell_type": "code",
      "execution_count": 18,
      "metadata": {
        "id": "7ZkRVoGtB9G2",
        "outputId": "41550575-c189-4643-f2d7-6b1afedcbcf0",
        "colab": {
          "base_uri": "https://localhost:8080/"
        }
      },
      "outputs": [
        {
          "output_type": "execute_result",
          "data": {
            "text/plain": [
              "array([[ 3,  4,  5,  6],\n",
              "       [ 7,  8,  9, 10]])"
            ]
          },
          "metadata": {},
          "execution_count": 18
        }
      ],
      "source": [
        "new_array+2"
      ]
    },
    {
      "cell_type": "code",
      "execution_count": 19,
      "metadata": {
        "id": "orMpr7I-B9G2",
        "outputId": "4b685237-3f1f-49b1-b907-aac2a801151f",
        "colab": {
          "base_uri": "https://localhost:8080/"
        }
      },
      "outputs": [
        {
          "output_type": "execute_result",
          "data": {
            "text/plain": [
              "array([[1., 1., 1., 1.],\n",
              "       [1., 1., 1., 1.]])"
            ]
          },
          "metadata": {},
          "execution_count": 19
        }
      ],
      "source": [
        "new_array/new_array"
      ]
    },
    {
      "cell_type": "code",
      "execution_count": 20,
      "metadata": {
        "id": "aWqgBpecB9G3",
        "outputId": "a01b3afc-b8be-4680-bb61-30ed5c800b40",
        "colab": {
          "base_uri": "https://localhost:8080/"
        }
      },
      "outputs": [
        {
          "output_type": "execute_result",
          "data": {
            "text/plain": [
              "array([ 6,  8, 10, 12])"
            ]
          },
          "metadata": {},
          "execution_count": 20
        }
      ],
      "source": [
        "np.sum(new_array,axis=0)"
      ]
    },
    {
      "cell_type": "code",
      "execution_count": 21,
      "metadata": {
        "id": "L2OBUc8uB9G3",
        "outputId": "9a4f51cd-dab9-47c0-ddf7-9700103d6f3e",
        "colab": {
          "base_uri": "https://localhost:8080/"
        }
      },
      "outputs": [
        {
          "output_type": "execute_result",
          "data": {
            "text/plain": [
              "array([10, 26])"
            ]
          },
          "metadata": {},
          "execution_count": 21
        }
      ],
      "source": [
        "np.sum(new_array,axis=1)"
      ]
    },
    {
      "cell_type": "code",
      "execution_count": 24,
      "metadata": {
        "outputId": "4a993b18-33e2-4791-a4ce-dfde7c3ac1bb",
        "colab": {
          "base_uri": "https://localhost:8080/"
        },
        "id": "GqFYECWZWuWo"
      },
      "outputs": [
        {
          "output_type": "execute_result",
          "data": {
            "text/plain": [
              "array([3., 4., 5., 6.])"
            ]
          },
          "metadata": {},
          "execution_count": 24
        }
      ],
      "source": [
        "np.mean(new_array,axis=0)"
      ]
    },
    {
      "cell_type": "code",
      "execution_count": 25,
      "metadata": {
        "outputId": "37e2caad-5f86-43e6-b1a1-e1f11b408bef",
        "colab": {
          "base_uri": "https://localhost:8080/"
        },
        "id": "5QfA4aPfW1D1"
      },
      "outputs": [
        {
          "output_type": "execute_result",
          "data": {
            "text/plain": [
              "array([2.5, 6.5])"
            ]
          },
          "metadata": {},
          "execution_count": 25
        }
      ],
      "source": [
        "np.mean(new_array,axis=1)"
      ]
    },
    {
      "cell_type": "code",
      "execution_count": 22,
      "metadata": {
        "id": "5hL0NBf8B9G3",
        "outputId": "e0a3af7f-d354-445c-ee85-b0700c5ff121",
        "colab": {
          "base_uri": "https://localhost:8080/"
        }
      },
      "outputs": [
        {
          "output_type": "execute_result",
          "data": {
            "text/plain": [
              "array([1, 2, 3, 4])"
            ]
          },
          "metadata": {},
          "execution_count": 22
        }
      ],
      "source": [
        "new_array[0]"
      ]
    },
    {
      "cell_type": "code",
      "execution_count": 23,
      "metadata": {
        "id": "kYcPHs_DB9G3",
        "outputId": "847179d9-f1a9-406f-9e6f-7a229f70de56",
        "colab": {
          "base_uri": "https://localhost:8080/"
        }
      },
      "outputs": [
        {
          "output_type": "execute_result",
          "data": {
            "text/plain": [
              "np.int64(70)"
            ]
          },
          "metadata": {},
          "execution_count": 23
        }
      ],
      "source": [
        "np.dot(new_array[0],new_array[1])"
      ]
    },
    {
      "cell_type": "markdown",
      "metadata": {
        "id": "NBw8QNDIB9G3"
      },
      "source": [
        "## **5. Input & Output**"
      ]
    },
    {
      "cell_type": "code",
      "execution_count": null,
      "metadata": {
        "id": "qO3ApiWqB9G3"
      },
      "outputs": [],
      "source": [
        "np.savetxt(\"data.txt\",new_array)"
      ]
    },
    {
      "cell_type": "code",
      "execution_count": null,
      "metadata": {
        "id": "KH5rGI4nB9G3",
        "outputId": "17292904-739b-43c8-bfaf-c9d1edc0c670",
        "colab": {
          "base_uri": "https://localhost:8080/"
        }
      },
      "outputs": [
        {
          "output_type": "execute_result",
          "data": {
            "text/plain": [
              "array([[1., 2., 3., 4.],\n",
              "       [5., 6., 7., 8.]])"
            ]
          },
          "metadata": {},
          "execution_count": 56
        }
      ],
      "source": [
        "array=np.loadtxt(\"data.txt\")\n",
        "array"
      ]
    },
    {
      "cell_type": "code",
      "source": [
        "print(array[0])\n",
        "print(array[:,1])"
      ],
      "metadata": {
        "colab": {
          "base_uri": "https://localhost:8080/"
        },
        "id": "mGXF0-ceCH0d",
        "outputId": "89cf1d8d-7378-41a3-cf6e-0065c438fc59"
      },
      "execution_count": null,
      "outputs": [
        {
          "output_type": "stream",
          "name": "stdout",
          "text": [
            "[1. 2. 3. 4.]\n",
            "[2. 6.]\n"
          ]
        }
      ]
    },
    {
      "cell_type": "markdown",
      "metadata": {
        "id": "SAGQjZ3rB9G4"
      },
      "source": [
        "## **6. Math Functions and Symbols**"
      ]
    },
    {
      "cell_type": "code",
      "execution_count": null,
      "metadata": {
        "id": "rlSgvKG9B9G4",
        "outputId": "47fe97d8-baaf-49f2-f13f-8c140246b4b3",
        "colab": {
          "base_uri": "https://localhost:8080/"
        }
      },
      "outputs": [
        {
          "output_type": "execute_result",
          "data": {
            "text/plain": [
              "3.141592653589793"
            ]
          },
          "metadata": {},
          "execution_count": 59
        }
      ],
      "source": [
        "np.pi"
      ]
    },
    {
      "cell_type": "code",
      "execution_count": null,
      "metadata": {
        "id": "g4uYlM_UB9G4",
        "outputId": "ff334763-649a-49af-9c0f-b7f9c18a132b",
        "colab": {
          "base_uri": "https://localhost:8080/"
        }
      },
      "outputs": [
        {
          "output_type": "stream",
          "name": "stdout",
          "text": [
            "<class 'numpy.ndarray'>\n",
            "[0.         0.31415927 0.62831853 0.9424778  1.25663706 1.57079633\n",
            " 1.88495559 2.19911486 2.51327412 2.82743339 3.14159265 3.45575192\n",
            " 3.76991118 4.08407045 4.39822972 4.71238898 5.02654825 5.34070751\n",
            " 5.65486678 5.96902604]\n",
            "20\n",
            "(20,)\n"
          ]
        }
      ],
      "source": [
        "theta=np.arange(0,2*np.pi,np.pi/10)\n",
        "print(type(theta))\n",
        "print(theta)\n",
        "print(theta.shape)"
      ]
    },
    {
      "cell_type": "code",
      "execution_count": null,
      "metadata": {
        "id": "YCqrzqRXB9G4",
        "outputId": "690f6e5e-53d7-4a54-fd82-57e15ee4eefb",
        "colab": {
          "base_uri": "https://localhost:8080/"
        }
      },
      "outputs": [
        {
          "output_type": "execute_result",
          "data": {
            "text/plain": [
              "array([ 0.00000000e+00,  3.09016994e-01,  5.87785252e-01,  8.09016994e-01,\n",
              "        9.51056516e-01,  1.00000000e+00,  9.51056516e-01,  8.09016994e-01,\n",
              "        5.87785252e-01,  3.09016994e-01,  1.22464680e-16, -3.09016994e-01,\n",
              "       -5.87785252e-01, -8.09016994e-01, -9.51056516e-01, -1.00000000e+00,\n",
              "       -9.51056516e-01, -8.09016994e-01, -5.87785252e-01, -3.09016994e-01])"
            ]
          },
          "metadata": {},
          "execution_count": 62
        }
      ],
      "source": [
        "np.sin(theta)"
      ]
    },
    {
      "cell_type": "markdown",
      "source": [
        "# Exercise 1. 학생들의 성적 처리하기\n",
        "\n",
        "> 철수: 수학 70점, 국어 82점, 영어 91점, 과학 87점\n",
        ">\n",
        "> 영희: 수학 97점, 국어 80점, 영어 92점, 과학 80점\n",
        ">\n",
        "> 재규: 수학 43점, 국어 99점, 영어 100점, 과학 60점\n",
        ">\n",
        "> 은지: 수학 100점, 국어 93점, 영어 94점, 과학 97점\n",
        "\n",
        "학생들의 성적을 record라는 numpy array에 입력하고 **(1) 개인별 평균과 표준편차**, **(2) 과목별 평균과 표준편차**를 계산하시오\n"
      ],
      "metadata": {
        "id": "2pekyDkGXTUw"
      }
    },
    {
      "cell_type": "code",
      "source": [],
      "metadata": {
        "id": "TqMnsruBXx51"
      },
      "execution_count": null,
      "outputs": []
    }
  ],
  "metadata": {
    "kernelspec": {
      "display_name": "Python 3",
      "language": "python",
      "name": "python3"
    },
    "language_info": {
      "codemirror_mode": {
        "name": "ipython",
        "version": 3
      },
      "file_extension": ".py",
      "mimetype": "text/x-python",
      "name": "python",
      "nbconvert_exporter": "python",
      "pygments_lexer": "ipython3",
      "version": "3.7.13"
    },
    "colab": {
      "provenance": [],
      "name": "2_Numpy.ipynb",
      "include_colab_link": true
    }
  },
  "nbformat": 4,
  "nbformat_minor": 0
}