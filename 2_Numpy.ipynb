{
  "cells": [
    {
      "cell_type": "markdown",
      "metadata": {
        "id": "view-in-github",
        "colab_type": "text"
      },
      "source": [
        "<a href=\"https://colab.research.google.com/github/junsookim76/Ewha_2023/blob/main/2_Numpy.ipynb\" target=\"_parent\"><img src=\"https://colab.research.google.com/assets/colab-badge.svg\" alt=\"Open In Colab\"/></a>"
      ]
    },
    {
      "cell_type": "markdown",
      "metadata": {
        "id": "0qrIIE97B9Gx"
      },
      "source": [
        "# \"Import\" numpy and etc"
      ]
    },
    {
      "cell_type": "code",
      "execution_count": null,
      "metadata": {
        "id": "CKS9A6d6B9Gy"
      },
      "outputs": [],
      "source": [
        "import numpy as np\n",
        "import matplotlib.pyplot as plt\n",
        "import sys,os,copy,random,math\n",
        "%matplotlib inline "
      ]
    },
    {
      "cell_type": "markdown",
      "metadata": {
        "id": "QUkBYTTzB9Gz"
      },
      "source": [
        "# Create numpy array"
      ]
    },
    {
      "cell_type": "code",
      "execution_count": null,
      "metadata": {
        "id": "DgQ3bsT8B9Gz",
        "outputId": "74343dd8-f5f1-4fdf-e06c-2d07b8ade427"
      },
      "outputs": [
        {
          "name": "stdout",
          "output_type": "stream",
          "text": [
            "<class 'list'>\n",
            "<class 'numpy.ndarray'>\n",
            "[1 2 3 4 5 6 7 8]\n",
            "int64\n",
            "(8,)\n"
          ]
        }
      ],
      "source": [
        "array=[1,2,3,4,5,6,7,8]\n",
        "numpy_array=np.array(array)\n",
        "print(type(array))\n",
        "print(type(numpy_array))\n",
        "print(numpy_array)\n",
        "print(numpy_array.dtype)\n",
        "print(numpy_array.shape)"
      ]
    },
    {
      "cell_type": "markdown",
      "metadata": {
        "id": "QXfWUrkdB9G0"
      },
      "source": [
        "# Change array shape"
      ]
    },
    {
      "cell_type": "code",
      "execution_count": null,
      "metadata": {
        "id": "LCUDgq1oB9G0",
        "outputId": "c042b1c9-52b7-48ce-84d6-e64776a5e575"
      },
      "outputs": [
        {
          "name": "stdout",
          "output_type": "stream",
          "text": [
            "[[1 2 3 4]\n",
            " [5 6 7 8]]\n"
          ]
        }
      ],
      "source": [
        "new_array=np.reshape(array,(2,4))\n",
        "print(new_array)"
      ]
    },
    {
      "cell_type": "code",
      "execution_count": null,
      "metadata": {
        "id": "ZnMgZCsgB9G0",
        "outputId": "29dd710b-62e6-407f-fdfa-fec665f9e0be"
      },
      "outputs": [
        {
          "name": "stdout",
          "output_type": "stream",
          "text": [
            "[[1 2 3 4]\n",
            " [5 6 7 8]]\n"
          ]
        }
      ],
      "source": [
        "new_array=np.reshape(array,(2,-1))\n",
        "print(new_array)"
      ]
    },
    {
      "cell_type": "markdown",
      "metadata": {
        "id": "1uCwqh0QB9G0"
      },
      "source": [
        "# Indexing and slicing"
      ]
    },
    {
      "cell_type": "code",
      "execution_count": null,
      "metadata": {
        "id": "Bj95RfQAB9G0",
        "outputId": "b4c4cea3-b90a-4a97-b162-6df000098ab9"
      },
      "outputs": [
        {
          "name": "stdout",
          "output_type": "stream",
          "text": [
            "7\n",
            "7\n"
          ]
        }
      ],
      "source": [
        "print(new_array[1,2])\n",
        "print(new_array[1][2])"
      ]
    },
    {
      "cell_type": "code",
      "execution_count": null,
      "metadata": {
        "id": "DBzTj1H9B9G1",
        "outputId": "d7730fa8-8433-4efc-b7a1-1beb69db9fe5"
      },
      "outputs": [
        {
          "data": {
            "text/plain": [
              "array([5, 6, 7, 8])"
            ]
          },
          "execution_count": 7,
          "metadata": {},
          "output_type": "execute_result"
        }
      ],
      "source": [
        "new_array[1,:]"
      ]
    },
    {
      "cell_type": "code",
      "execution_count": null,
      "metadata": {
        "id": "mwFXnYxFB9G1",
        "outputId": "e329b731-ec6c-4a6f-ad56-824756fa635e"
      },
      "outputs": [
        {
          "data": {
            "text/plain": [
              "array([1, 3])"
            ]
          },
          "execution_count": 8,
          "metadata": {},
          "output_type": "execute_result"
        }
      ],
      "source": [
        "new_array[0,::2]"
      ]
    },
    {
      "cell_type": "code",
      "execution_count": null,
      "metadata": {
        "id": "PJ0B7tJfB9G1",
        "outputId": "7e5a1f89-7dc9-4221-e129-d09d5be800b7"
      },
      "outputs": [
        {
          "data": {
            "text/plain": [
              "array([2, 4])"
            ]
          },
          "execution_count": 9,
          "metadata": {},
          "output_type": "execute_result"
        }
      ],
      "source": [
        "new_array[0,1::2]"
      ]
    },
    {
      "cell_type": "code",
      "execution_count": null,
      "metadata": {
        "id": "A9Gc1_dmB9G1",
        "outputId": "b0287c92-8440-427e-c8dc-baa46be3b513"
      },
      "outputs": [
        {
          "data": {
            "text/plain": [
              "array([[1, 2],\n",
              "       [5, 6]])"
            ]
          },
          "execution_count": 10,
          "metadata": {},
          "output_type": "execute_result"
        }
      ],
      "source": [
        "array2=new_array[:,:2]\n",
        "array2"
      ]
    },
    {
      "cell_type": "code",
      "execution_count": null,
      "metadata": {
        "id": "D2XgxF3EB9G1",
        "outputId": "8931eb9a-a4c7-40db-d16f-6e7bb6401778"
      },
      "outputs": [
        {
          "data": {
            "text/plain": [
              "array([[0., 0., 0., 0., 0., 0., 0., 0.],\n",
              "       [0., 0., 0., 0., 0., 0., 0., 0.],\n",
              "       [0., 0., 0., 0., 0., 0., 0., 0.],\n",
              "       [0., 0., 0., 0., 0., 0., 0., 0.],\n",
              "       [0., 0., 0., 0., 0., 0., 0., 0.],\n",
              "       [0., 0., 0., 0., 0., 0., 0., 0.],\n",
              "       [0., 0., 0., 0., 0., 0., 0., 0.],\n",
              "       [0., 0., 0., 0., 0., 0., 0., 0.]])"
            ]
          },
          "execution_count": 11,
          "metadata": {},
          "output_type": "execute_result"
        }
      ],
      "source": [
        "new2=np.zeros((8,8))\n",
        "new2"
      ]
    },
    {
      "cell_type": "code",
      "execution_count": null,
      "metadata": {
        "id": "y-iRrz8SB9G2",
        "outputId": "d40cd5b9-466e-478f-b0db-217789663aef"
      },
      "outputs": [
        {
          "data": {
            "text/plain": [
              "array([[0., 0., 0., 0., 0., 0., 0., 0.],\n",
              "       [0., 0., 0., 0., 0., 0., 0., 0.],\n",
              "       [0., 0., 0., 0., 1., 0., 2., 0.],\n",
              "       [0., 0., 0., 0., 0., 0., 0., 0.],\n",
              "       [0., 0., 0., 0., 0., 0., 0., 0.],\n",
              "       [0., 0., 0., 0., 5., 0., 6., 0.],\n",
              "       [0., 0., 0., 0., 0., 0., 0., 0.],\n",
              "       [0., 0., 0., 0., 0., 0., 0., 0.]])"
            ]
          },
          "execution_count": 12,
          "metadata": {},
          "output_type": "execute_result"
        }
      ],
      "source": [
        "new2[2::3,4::2]=array2\n",
        "new2"
      ]
    },
    {
      "cell_type": "code",
      "execution_count": null,
      "metadata": {
        "id": "_6OEjcwrB9G2",
        "outputId": "8069c0eb-ab06-4012-92a4-51f816e10eb1"
      },
      "outputs": [
        {
          "data": {
            "text/plain": [
              "array([[False, False,  True,  True],\n",
              "       [ True,  True,  True,  True]])"
            ]
          },
          "execution_count": 13,
          "metadata": {},
          "output_type": "execute_result"
        }
      ],
      "source": [
        "new_array>2"
      ]
    },
    {
      "cell_type": "code",
      "execution_count": null,
      "metadata": {
        "id": "GpHJs-E0B9G2",
        "outputId": "b19a5cec-b395-47f0-a77a-35bbf0c04dab"
      },
      "outputs": [
        {
          "data": {
            "text/plain": [
              "array([3, 4, 5, 6, 7, 8])"
            ]
          },
          "execution_count": 14,
          "metadata": {},
          "output_type": "execute_result"
        }
      ],
      "source": [
        "new_array[new_array>2]"
      ]
    },
    {
      "cell_type": "markdown",
      "metadata": {
        "id": "yj_jGZu1B9G2"
      },
      "source": [
        "# Calculation"
      ]
    },
    {
      "cell_type": "code",
      "execution_count": null,
      "metadata": {
        "id": "HUIuEhlRB9G2",
        "outputId": "af9fe894-c81d-4c35-df04-ae294281c186"
      },
      "outputs": [
        {
          "data": {
            "text/plain": [
              "array([[1, 2, 3, 4],\n",
              "       [5, 6, 7, 8]])"
            ]
          },
          "execution_count": 15,
          "metadata": {},
          "output_type": "execute_result"
        }
      ],
      "source": [
        "new_array"
      ]
    },
    {
      "cell_type": "code",
      "execution_count": null,
      "metadata": {
        "id": "7ZkRVoGtB9G2",
        "outputId": "bdeecf58-2162-45c7-88ee-c58f29bee90b"
      },
      "outputs": [
        {
          "data": {
            "text/plain": [
              "array([[ 3,  4,  5,  6],\n",
              "       [ 7,  8,  9, 10]])"
            ]
          },
          "execution_count": 16,
          "metadata": {},
          "output_type": "execute_result"
        }
      ],
      "source": [
        "new_array+2"
      ]
    },
    {
      "cell_type": "code",
      "execution_count": null,
      "metadata": {
        "id": "orMpr7I-B9G2",
        "outputId": "553aab94-7d62-4543-cab7-bdf6ea8c88e2"
      },
      "outputs": [
        {
          "data": {
            "text/plain": [
              "array([[1., 1., 1., 1.],\n",
              "       [1., 1., 1., 1.]])"
            ]
          },
          "execution_count": 17,
          "metadata": {},
          "output_type": "execute_result"
        }
      ],
      "source": [
        "new_array/new_array"
      ]
    },
    {
      "cell_type": "code",
      "execution_count": null,
      "metadata": {
        "id": "aWqgBpecB9G3",
        "outputId": "a803b557-d883-4d6f-8b2a-ee25b8f5afa4"
      },
      "outputs": [
        {
          "data": {
            "text/plain": [
              "array([ 6,  8, 10, 12])"
            ]
          },
          "execution_count": 18,
          "metadata": {},
          "output_type": "execute_result"
        }
      ],
      "source": [
        "np.sum(new_array,axis=0)"
      ]
    },
    {
      "cell_type": "code",
      "execution_count": null,
      "metadata": {
        "id": "L2OBUc8uB9G3",
        "outputId": "04cab362-f7a1-4cd5-f948-d77fe018015c"
      },
      "outputs": [
        {
          "data": {
            "text/plain": [
              "array([10, 26])"
            ]
          },
          "execution_count": 19,
          "metadata": {},
          "output_type": "execute_result"
        }
      ],
      "source": [
        "np.sum(new_array,axis=1)"
      ]
    },
    {
      "cell_type": "code",
      "execution_count": null,
      "metadata": {
        "id": "5hL0NBf8B9G3",
        "outputId": "3551275d-dc22-41e6-f06e-72da77e8920f"
      },
      "outputs": [
        {
          "data": {
            "text/plain": [
              "array([1, 2, 3, 4])"
            ]
          },
          "execution_count": 20,
          "metadata": {},
          "output_type": "execute_result"
        }
      ],
      "source": [
        "new_array[0]"
      ]
    },
    {
      "cell_type": "code",
      "execution_count": null,
      "metadata": {
        "id": "kYcPHs_DB9G3",
        "outputId": "5a499e10-dc8d-4723-bcb6-4076418cd121"
      },
      "outputs": [
        {
          "data": {
            "text/plain": [
              "70"
            ]
          },
          "execution_count": 21,
          "metadata": {},
          "output_type": "execute_result"
        }
      ],
      "source": [
        "np.dot(new_array[0],new_array[1])"
      ]
    },
    {
      "cell_type": "markdown",
      "metadata": {
        "id": "NBw8QNDIB9G3"
      },
      "source": [
        "# File IO"
      ]
    },
    {
      "cell_type": "code",
      "execution_count": null,
      "metadata": {
        "id": "qO3ApiWqB9G3"
      },
      "outputs": [],
      "source": [
        "np.savetxt(\"data.txt\",new_array)"
      ]
    },
    {
      "cell_type": "code",
      "execution_count": null,
      "metadata": {
        "id": "KH5rGI4nB9G3",
        "outputId": "3eede4cd-56b1-4628-ff99-22196ee12c82"
      },
      "outputs": [
        {
          "data": {
            "text/plain": [
              "array([[1., 2., 3., 4.],\n",
              "       [5., 6., 7., 8.]])"
            ]
          },
          "execution_count": 23,
          "metadata": {},
          "output_type": "execute_result"
        }
      ],
      "source": [
        "np.loadtxt(\"data.txt\")"
      ]
    },
    {
      "cell_type": "markdown",
      "metadata": {
        "id": "SAGQjZ3rB9G4"
      },
      "source": [
        "# Pi / Math Functions"
      ]
    },
    {
      "cell_type": "code",
      "execution_count": null,
      "metadata": {
        "id": "rlSgvKG9B9G4",
        "outputId": "dadc1590-904a-49b2-8087-e03d92eab100"
      },
      "outputs": [
        {
          "data": {
            "text/plain": [
              "3.141592653589793"
            ]
          },
          "execution_count": 24,
          "metadata": {},
          "output_type": "execute_result"
        }
      ],
      "source": [
        "np.pi"
      ]
    },
    {
      "cell_type": "code",
      "execution_count": null,
      "metadata": {
        "id": "g4uYlM_UB9G4",
        "outputId": "0887c185-b150-4b8d-8966-63d851d36552"
      },
      "outputs": [
        {
          "name": "stdout",
          "output_type": "stream",
          "text": [
            "<class 'numpy.ndarray'>\n",
            "[0.         0.31415927 0.62831853 0.9424778  1.25663706 1.57079633\n",
            " 1.88495559 2.19911486 2.51327412 2.82743339 3.14159265 3.45575192\n",
            " 3.76991118 4.08407045 4.39822972 4.71238898 5.02654825 5.34070751\n",
            " 5.65486678 5.96902604]\n"
          ]
        }
      ],
      "source": [
        "theta=np.arange(0,2*np.pi,np.pi/10)\n",
        "print(type(theta))\n",
        "print(theta)"
      ]
    },
    {
      "cell_type": "code",
      "execution_count": null,
      "metadata": {
        "id": "YCqrzqRXB9G4",
        "outputId": "def0ef35-636a-4dbe-c3ea-50165dd724ff"
      },
      "outputs": [
        {
          "data": {
            "text/plain": [
              "array([ 0.00000000e+00,  3.09016994e-01,  5.87785252e-01,  8.09016994e-01,\n",
              "        9.51056516e-01,  1.00000000e+00,  9.51056516e-01,  8.09016994e-01,\n",
              "        5.87785252e-01,  3.09016994e-01,  1.22464680e-16, -3.09016994e-01,\n",
              "       -5.87785252e-01, -8.09016994e-01, -9.51056516e-01, -1.00000000e+00,\n",
              "       -9.51056516e-01, -8.09016994e-01, -5.87785252e-01, -3.09016994e-01])"
            ]
          },
          "execution_count": 38,
          "metadata": {},
          "output_type": "execute_result"
        }
      ],
      "source": [
        "np.sin(theta)"
      ]
    }
  ],
  "metadata": {
    "kernelspec": {
      "display_name": "Python 3",
      "language": "python",
      "name": "python3"
    },
    "language_info": {
      "codemirror_mode": {
        "name": "ipython",
        "version": 3
      },
      "file_extension": ".py",
      "mimetype": "text/x-python",
      "name": "python",
      "nbconvert_exporter": "python",
      "pygments_lexer": "ipython3",
      "version": "3.7.13"
    },
    "colab": {
      "provenance": [],
      "include_colab_link": true
    }
  },
  "nbformat": 4,
  "nbformat_minor": 0
}