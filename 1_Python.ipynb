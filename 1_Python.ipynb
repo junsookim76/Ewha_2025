{
  "cells": [
    {
      "cell_type": "markdown",
      "metadata": {
        "id": "view-in-github",
        "colab_type": "text"
      },
      "source": [
        "<a href=\"https://colab.research.google.com/github/junsookim76/Ewha_2023/blob/main/Python.ipynb\" target=\"_parent\"><img src=\"https://colab.research.google.com/assets/colab-badge.svg\" alt=\"Open In Colab\"/></a>"
      ]
    },
    {
      "cell_type": "markdown",
      "metadata": {
        "id": "DvOBR5j0rlFZ"
      },
      "source": [
        "# Python\n",
        "## 1.변수"
      ]
    },
    {
      "cell_type": "code",
      "execution_count": null,
      "metadata": {
        "id": "9Ngkve_6rlFa",
        "outputId": "746107ad-23b5-444f-f530-493f12cb0fea"
      },
      "outputs": [
        {
          "name": "stdout",
          "output_type": "stream",
          "text": [
            "31 + 24 = 55\n",
            "31 * 24 = 744\n",
            "31 / 24 = 1 * 24 + 7\n"
          ]
        }
      ],
      "source": [
        "#정수\n",
        "a=31\n",
        "b=24\n",
        "c=a+b\n",
        "print(a,\"+\",b,\"=\",c)\n",
        "print(a,\"*\",b,\"=\",a*b)\n",
        "print(a,\"/\",b,\"=\",a//b,\"*\",b,\"+\",a%b)"
      ]
    },
    {
      "cell_type": "code",
      "execution_count": null,
      "metadata": {
        "id": "gksA5KMGrlFb",
        "outputId": "428c5251-20ac-4442-eb15-a59deee70656"
      },
      "outputs": [
        {
          "name": "stdout",
          "output_type": "stream",
          "text": [
            "1.7 * 2.0 = 3.4\n",
            "1.7 / 300.0 = 0.005666666666666666\n"
          ]
        }
      ],
      "source": [
        "#실수\n",
        "d=1.7\n",
        "e=2.0\n",
        "f=3E2\n",
        "g=d*e\n",
        "h=d/f\n",
        "print(d,\"*\",e,\"=\",g)\n",
        "print(d,\"/\",f,\"=\",h)"
      ]
    },
    {
      "cell_type": "code",
      "execution_count": null,
      "metadata": {
        "id": "2UnrRBiXrlFc",
        "outputId": "5be7dc81-09df-4705-d5ee-29143ebda3ae"
      },
      "outputs": [
        {
          "name": "stdout",
          "output_type": "stream",
          "text": [
            "this is that\n"
          ]
        }
      ],
      "source": [
        "#문자열\n",
        "t1=\"this\"\n",
        "t2=\"that\"\n",
        "print(t1,\"is\",t2)"
      ]
    },
    {
      "cell_type": "code",
      "execution_count": null,
      "metadata": {
        "id": "GsC86qa5rlFc",
        "outputId": "d3fa832c-68eb-4be1-f047-3ee3fb47a749"
      },
      "outputs": [
        {
          "name": "stdout",
          "output_type": "stream",
          "text": [
            "3 4 END\n",
            "[1, 2] [1, 2, 3, 4, 5, 6]\n"
          ]
        }
      ],
      "source": [
        "#리스트\n",
        "a=[1,2,3,4,5,6,\"END\"]\n",
        "print(a[2],a[3],a[-1])\n",
        "print(a[:2],a[0:-1])"
      ]
    },
    {
      "cell_type": "code",
      "execution_count": null,
      "metadata": {
        "id": "QbxCEIIxrlFd",
        "outputId": "a80f781a-b0ad-4420-aa17-798d970e4b8f"
      },
      "outputs": [
        {
          "name": "stdout",
          "output_type": "stream",
          "text": [
            "[1, 2, 3, 4, 5, 6, 'END', 10]\n"
          ]
        }
      ],
      "source": [
        "a.append(10)\n",
        "print(a)"
      ]
    },
    {
      "cell_type": "code",
      "execution_count": null,
      "metadata": {
        "id": "kD42ulA7rlFd",
        "outputId": "0ddf4aaa-50b1-4b74-b13e-f7566ef4fd65"
      },
      "outputs": [
        {
          "name": "stdout",
          "output_type": "stream",
          "text": [
            "[1, 2, 3, 4, 5, 6, 10]\n"
          ]
        }
      ],
      "source": [
        "a.remove('END')\n",
        "print(a)"
      ]
    },
    {
      "cell_type": "code",
      "execution_count": null,
      "metadata": {
        "id": "AxuqtwBmrlFe",
        "outputId": "f16c3354-70d1-455e-afd1-2bd3d23fa1d3"
      },
      "outputs": [
        {
          "name": "stdout",
          "output_type": "stream",
          "text": [
            "h\n",
            "thisthat\n",
            "8\n"
          ]
        }
      ],
      "source": [
        "print(t1[1])\n",
        "print(t1+t2)\n",
        "print(len(t1+t2))"
      ]
    },
    {
      "cell_type": "code",
      "execution_count": null,
      "metadata": {
        "id": "yjtbcuS6rlFe",
        "outputId": "a7742356-e640-4640-f687-2fd0a3c93ebd"
      },
      "outputs": [
        {
          "name": "stdout",
          "output_type": "stream",
          "text": [
            "Jan\n"
          ]
        }
      ],
      "source": [
        "a={1:\"Jan\",2:\"Feb\",3:\"Mar\"}\n",
        "print(a[1])"
      ]
    },
    {
      "cell_type": "code",
      "execution_count": null,
      "metadata": {
        "id": "1B3BujOtrlFe",
        "outputId": "cf1658e4-4b02-4f87-ea47-064e2a8e7cea"
      },
      "outputs": [
        {
          "name": "stdout",
          "output_type": "stream",
          "text": [
            "Jan and Feb\n"
          ]
        }
      ],
      "source": [
        "print(a[1]+\" and \"+a[2])"
      ]
    },
    {
      "cell_type": "code",
      "execution_count": null,
      "metadata": {
        "id": "IH3WQjbSrlFf",
        "outputId": "3749b993-d4c5-44bc-de42-95dd74809d31"
      },
      "outputs": [
        {
          "name": "stdout",
          "output_type": "stream",
          "text": [
            "Oct ,dict is  {1: 'Jan', 2: 'Feb', 3: 'Mar', 10: 'Oct'}\n"
          ]
        }
      ],
      "source": [
        "a[10]=\"Oct\"\n",
        "print(a[10],\",dict is \",a)"
      ]
    },
    {
      "cell_type": "markdown",
      "metadata": {
        "id": "0b6hckXdrlFf"
      },
      "source": [
        "## 2.Loop/If"
      ]
    },
    {
      "cell_type": "code",
      "execution_count": null,
      "metadata": {
        "id": "X-5m59JarlFg",
        "outputId": "a957372b-5caa-4f18-e544-cb86634dc00e"
      },
      "outputs": [
        {
          "name": "stdout",
          "output_type": "stream",
          "text": [
            "1\n",
            "2\n",
            "3\n",
            "4\n",
            "5\n"
          ]
        }
      ],
      "source": [
        "for i in [1,2,3,4,5]:\n",
        "    print(i)"
      ]
    },
    {
      "cell_type": "code",
      "execution_count": null,
      "metadata": {
        "id": "LYjQV6gDrlFg",
        "outputId": "fe8a59f3-14aa-4b92-8d16-036cc59ea8fb"
      },
      "outputs": [
        {
          "name": "stdout",
          "output_type": "stream",
          "text": [
            "0\n",
            "1\n",
            "2\n",
            "3\n",
            "4\n",
            "5\n"
          ]
        }
      ],
      "source": [
        "for i in range(6):\n",
        "    print(i)"
      ]
    },
    {
      "cell_type": "code",
      "execution_count": null,
      "metadata": {
        "id": "yGin2HborlFg",
        "outputId": "d7dd5de2-f1cf-468e-cf38-671e198424b7"
      },
      "outputs": [
        {
          "name": "stdout",
          "output_type": "stream",
          "text": [
            "3\n",
            "5\n",
            "7\n"
          ]
        }
      ],
      "source": [
        "a=[1,2,3,4,5,6,7,8,9,10]\n",
        "for i in a[2:8:2]:\n",
        "    print(i)"
      ]
    },
    {
      "cell_type": "code",
      "execution_count": null,
      "metadata": {
        "id": "xQgWchqwrlFh",
        "outputId": "ce1cedd4-6cbe-44f2-84be-cd06ae89bc0f"
      },
      "outputs": [
        {
          "name": "stdout",
          "output_type": "stream",
          "text": [
            "3\n",
            "13\n",
            "23\n",
            "33\n",
            "43\n",
            "53\n",
            "63\n",
            "73\n",
            "83\n",
            "93\n"
          ]
        }
      ],
      "source": [
        "for i in range(3,100,10):\n",
        "    print(i)"
      ]
    },
    {
      "cell_type": "code",
      "execution_count": null,
      "metadata": {
        "id": "Xo6nox7MrlFh",
        "outputId": "88e1b38b-cfab-46d8-e189-4eb1b7cbc852"
      },
      "outputs": [
        {
          "name": "stdout",
          "output_type": "stream",
          "text": [
            "0\n",
            "1\n",
            "2\n",
            "3\n",
            "4\n"
          ]
        }
      ],
      "source": [
        "a=0\n",
        "while(a<5):\n",
        "    print(a)\n",
        "    a+=1"
      ]
    },
    {
      "cell_type": "code",
      "execution_count": null,
      "metadata": {
        "id": "UDPfxsjerlFi",
        "outputId": "b5565880-0357-4edb-8f2c-8d5b4736d7d4"
      },
      "outputs": [
        {
          "name": "stdout",
          "output_type": "stream",
          "text": [
            "0\n",
            "1\n",
            "2\n",
            "3\n",
            "4\n",
            "5\n",
            "6\n"
          ]
        }
      ],
      "source": [
        "a=0\n",
        "while(a<10):\n",
        "    print(a)\n",
        "    a+=1\n",
        "    if(a==7):\n",
        "        break"
      ]
    },
    {
      "cell_type": "markdown",
      "metadata": {
        "id": "mqAauH4VrlFi"
      },
      "source": [
        "## Quiz1. 2,8 구구단을 출력해 보세요"
      ]
    },
    {
      "cell_type": "code",
      "execution_count": null,
      "metadata": {
        "id": "WC9X0eiqrlFj",
        "outputId": "b7fdf42a-279a-425e-cb52-9d4480e089c5"
      },
      "outputs": [
        {
          "name": "stdout",
          "output_type": "stream",
          "text": [
            "None\n"
          ]
        }
      ],
      "source": [
        "for i in [2]:\n",
        "    print(None)"
      ]
    },
    {
      "cell_type": "markdown",
      "metadata": {
        "id": "12YW3mOerlFj"
      },
      "source": [
        "## Quiz2. 1에서 100까지 중 소수만을 더해 출력해 보세요"
      ]
    },
    {
      "cell_type": "code",
      "execution_count": null,
      "metadata": {
        "id": "t96n2TYZrlFj"
      },
      "outputs": [],
      "source": [
        "for i in range(1,101):\n",
        "    None"
      ]
    },
    {
      "cell_type": "markdown",
      "metadata": {
        "id": "jM0EDh1TrlFk"
      },
      "source": [
        "## 3.IO"
      ]
    },
    {
      "cell_type": "code",
      "execution_count": null,
      "metadata": {
        "id": "n3g7wI9zrlFk"
      },
      "outputs": [],
      "source": [
        "f=open(\"text.txt\",\"w\")\n",
        "for i in range(1,10):\n",
        "    f.write(str(i))\n",
        "    f.write(\"\\t\")\n",
        "    f.write(str(i*10))\n",
        "    f.write(\"\\n\")\n",
        "f.close()\n"
      ]
    },
    {
      "cell_type": "code",
      "execution_count": null,
      "metadata": {
        "id": "BW7OqhjxrlFk",
        "outputId": "fe2e96dc-27b2-4bba-fee4-4057061d0135"
      },
      "outputs": [
        {
          "name": "stdout",
          "output_type": "stream",
          "text": [
            "1\t10\n",
            "2\t20\n",
            "3\t30\n",
            "4\t40\n",
            "5\t50\n",
            "6\t60\n",
            "7\t70\n",
            "8\t80\n",
            "9\t90\n"
          ]
        }
      ],
      "source": [
        "with open(\"text.txt\") as f:\n",
        "    data=f.readlines()\n",
        "    for i in data:\n",
        "        print(i,end=\"\")"
      ]
    },
    {
      "cell_type": "code",
      "execution_count": null,
      "metadata": {
        "id": "Nqiq8SrErlFk",
        "outputId": "46fe72e6-78f4-4ef4-81ac-441bd8d1805d"
      },
      "outputs": [
        {
          "data": {
            "text/plain": [
              "{1: 10, 2: 20, 3: 30, 4: 40, 5: 50, 6: 60, 7: 70, 8: 80, 9: 90}"
            ]
          },
          "execution_count": 35,
          "metadata": {},
          "output_type": "execute_result"
        }
      ],
      "source": [
        "data_python={}\n",
        "for i in data:\n",
        "    strings=i.split()\n",
        "    data_python[int(strings[0])]=int(strings[-1])\n",
        "data_python"
      ]
    },
    {
      "cell_type": "markdown",
      "metadata": {
        "id": "y0g_K6ZQrlFl"
      },
      "source": [
        "## 4.Function/import"
      ]
    },
    {
      "cell_type": "code",
      "execution_count": null,
      "metadata": {
        "id": "XtUACz_qrlFl",
        "outputId": "8dac244a-0fdd-4b5d-ec77-2609f1ad11e8"
      },
      "outputs": [
        {
          "name": "stdout",
          "output_type": "stream",
          "text": [
            "1 + 2 = 3\n"
          ]
        }
      ],
      "source": [
        "def add(a,b):\n",
        "    return a+b\n",
        "a=1\n",
        "b=2\n",
        "print(a,\"+\",b,\"=\",add(a,b))"
      ]
    },
    {
      "cell_type": "code",
      "execution_count": null,
      "metadata": {
        "id": "O9EClG_urlFl",
        "outputId": "9e081adb-4e01-4cd1-c57f-bb899e08f1ad"
      },
      "outputs": [
        {
          "name": "stdout",
          "output_type": "stream",
          "text": [
            "1 + 2 = 3\n"
          ]
        }
      ],
      "source": [
        "def add2(a,b):\n",
        "    print(a,\"+\",b,\"=\",a+b)\n",
        "    return None\n",
        "add2(1,2)"
      ]
    },
    {
      "cell_type": "code",
      "execution_count": null,
      "metadata": {
        "id": "t4q7DAPQrlFm"
      },
      "outputs": [],
      "source": [
        "import numpy as np\n",
        "import scipy as sp\n",
        "import matplotlib.pyplot as plt\n",
        "%matplotlib inline "
      ]
    },
    {
      "cell_type": "code",
      "execution_count": null,
      "metadata": {
        "id": "I7BTC2B5rlFm",
        "outputId": "3cc8f974-610d-4dab-d0cf-e11854ff9105"
      },
      "outputs": [
        {
          "data": {
            "text/plain": [
              "[<matplotlib.lines.Line2D at 0x7f88b38b8690>]"
            ]
          },
          "execution_count": 58,
          "metadata": {},
          "output_type": "execute_result"
        },
        {
          "data": {
            "image/png": "[encoded data removed]",
            "text/plain": [
              "<Figure size 432x288 with 1 Axes>"
            ]
          },
          "metadata": {
            "needs_background": "light"
          },
          "output_type": "display_data"
        }
      ],
      "source": [
        "plt.plot([1, 2, 3, 4])"
      ]
    },
    {
      "cell_type": "code",
      "execution_count": null,
      "metadata": {
        "id": "E-NeBCkYrlFm"
      },
      "outputs": [],
      "source": [
        "to_create=1000\n",
        "rand_normal=np.random.normal(0,1,size=(3,to_create))\n",
        "time=np.arange(0,to_create)/np.pi\n",
        "sin1=np.sin(time+rand_normal[0]*0.04)*4\n",
        "sin2=np.sin(time*3+rand_normal[1]*0.04)\n",
        "data=sin1+sin2+0.07*rand_normal[2]"
      ]
    },
    {
      "cell_type": "code",
      "execution_count": null,
      "metadata": {
        "id": "38I6TslsrlFm",
        "outputId": "264d6885-c789-432d-bab2-defe41719ab9"
      },
      "outputs": [
        {
          "data": {
            "text/plain": [
              "[<matplotlib.lines.Line2D at 0x7f88b3843450>]"
            ]
          },
          "execution_count": 59,
          "metadata": {},
          "output_type": "execute_result"
        },
        {
          "data": {
            "image/png": "[encoded data removed]",
            "text/plain": [
              "<Figure size 432x288 with 1 Axes>"
            ]
          },
          "metadata": {
            "needs_background": "light"
          },
          "output_type": "display_data"
        }
      ],
      "source": [
        "plt.plot(data[:100])"
      ]
    },
    {
      "cell_type": "code",
      "execution_count": null,
      "metadata": {
        "id": "pbhdkzLarlFm"
      },
      "outputs": [],
      "source": []
    }
  ],
  "metadata": {
    "kernelspec": {
      "display_name": "Python 3",
      "language": "python",
      "name": "python3"
    },
    "language_info": {
      "codemirror_mode": {
        "name": "ipython",
        "version": 3
      },
      "file_extension": ".py",
      "mimetype": "text/x-python",
      "name": "python",
      "nbconvert_exporter": "python",
      "pygments_lexer": "ipython3",
      "version": "3.7.13"
    },
    "colab": {
      "provenance": [],
      "include_colab_link": true
    }
  },
  "nbformat": 4,
  "nbformat_minor": 0
}
