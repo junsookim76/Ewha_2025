{
  "cells": [
    {
      "cell_type": "markdown",
      "metadata": {
        "id": "view-in-github",
        "colab_type": "text"
      },
      "source": [
        "<a href=\"https://colab.research.google.com/github/junsookim76/Ewha_2025/blob/main/1_Python.ipynb\" target=\"_parent\"><img src=\"https://colab.research.google.com/assets/colab-badge.svg\" alt=\"Open In Colab\"/></a>"
      ]
    },
    {
      "cell_type": "markdown",
      "metadata": {
        "id": "DvOBR5j0rlFZ"
      },
      "source": [
        "# Python\n",
        "\n",
        "> 참고문헌: 점프 투 파이썬\n",
        "> https://wikidocs.net/book/1\n"
      ]
    },
    {
      "cell_type": "markdown",
      "source": [
        "# **1. 자료형**\n",
        "정수/실수/문자열/리스트/튜플/딕셔너리/참거짓(boolean)"
      ],
      "metadata": {
        "id": "602HdsKe4fq1"
      }
    },
    {
      "cell_type": "code",
      "execution_count": 11,
      "metadata": {
        "id": "9Ngkve_6rlFa",
        "outputId": "d49aad44-e39c-48b8-aca5-a032e001aaff",
        "colab": {
          "base_uri": "https://localhost:8080/"
        }
      },
      "outputs": [
        {
          "output_type": "stream",
          "name": "stdout",
          "text": [
            "31 + 24 = 55\n",
            "31 * 24 = 744\n",
            "31 / 24 = 1 * 24 + 7\n"
          ]
        }
      ],
      "source": [
        "# 정수\n",
        "a=31\n",
        "b=24\n",
        "c=a+b\n",
        "\n",
        "print(a,\"+\",b,\"=\",c)\n",
        "print(a,\"*\",b,\"=\",a*b)\n",
        "print(a,\"/\",b,\"=\",a//b,\"*\",b,\"+\",a%b)"
      ]
    },
    {
      "cell_type": "code",
      "execution_count": 12,
      "metadata": {
        "id": "gksA5KMGrlFb",
        "outputId": "0f48ffdd-cb5d-48b6-f2c7-8fdaac57c220",
        "colab": {
          "base_uri": "https://localhost:8080/"
        }
      },
      "outputs": [
        {
          "output_type": "stream",
          "name": "stdout",
          "text": [
            "1.7 * 2.0 = 3.4\n",
            "1.7 / 300.0 = 0.005666666666666666\n"
          ]
        }
      ],
      "source": [
        "# 실수\n",
        "d=1.7\n",
        "e=2.0\n",
        "f=3E2\n",
        "g=d*e\n",
        "h=d/f\n",
        "\n",
        "print(d,\"*\",e,\"=\",g)\n",
        "print(d,\"/\",f,\"=\",h)"
      ]
    },
    {
      "cell_type": "code",
      "execution_count": 52,
      "metadata": {
        "id": "2UnrRBiXrlFc",
        "outputId": "d885bb6f-03ce-4a11-d93d-8fd25077104d",
        "colab": {
          "base_uri": "https://localhost:8080/"
        }
      },
      "outputs": [
        {
          "output_type": "stream",
          "name": "stdout",
          "text": [
            "this is that\n",
            "<class 'str'>\n",
            "Length of a Text =  4\n"
          ]
        }
      ],
      "source": [
        "# 문자열\n",
        "t1=\"this\"\n",
        "t2=\"that\"\n",
        "\n",
        "print(t1,\"is\",t2)\n",
        "print(type(t1))\n",
        "print(\"Length of a Text = \",len(t1))"
      ]
    },
    {
      "cell_type": "code",
      "execution_count": 50,
      "metadata": {
        "id": "GsC86qa5rlFc",
        "outputId": "cbe4463c-f7cc-4906-cc44-694a132440b7",
        "colab": {
          "base_uri": "https://localhost:8080/"
        }
      },
      "outputs": [
        {
          "output_type": "stream",
          "name": "stdout",
          "text": [
            "[1, 2, 3, 4, 5, 6, 'END']\n",
            "<class 'list'>\n",
            "Length of List =  7\n",
            "[3, 2, 3, 4, 5, 6, 'END']\n"
          ]
        }
      ],
      "source": [
        "# 리스트\n",
        "a=[1,2,3,4,5,6,\"END\"]\n",
        "\n",
        "print(a)\n",
        "print(type(a))\n",
        "print(\"Length of List = \",len(a))\n",
        "\n",
        "a[0]=3\n",
        "print(a)"
      ]
    },
    {
      "cell_type": "code",
      "source": [
        "# 튜플: 리스트와 다르게 요소값을 변경할 수 없음\n",
        "b=(1,2,3,4,5,6,\"END\")\n",
        "\n",
        "print(b)\n",
        "print(type(b))\n",
        "print(\"Length of Tuple = \",len(b))\n",
        "\n",
        "b[0]=3\n",
        "print(b)"
      ],
      "metadata": {
        "colab": {
          "base_uri": "https://localhost:8080/",
          "height": 251
        },
        "id": "IdXUyK-BBkiQ",
        "outputId": "09e3dd32-8c6c-4624-89a6-ec4e890741cd"
      },
      "execution_count": 51,
      "outputs": [
        {
          "output_type": "stream",
          "name": "stdout",
          "text": [
            "(1, 2, 3, 4, 5, 6, 'END')\n",
            "<class 'tuple'>\n",
            "Length of Tuple =  7\n"
          ]
        },
        {
          "output_type": "error",
          "ename": "TypeError",
          "evalue": "'tuple' object does not support item assignment",
          "traceback": [
            "\u001b[0;31m---------------------------------------------------------------------------\u001b[0m",
            "\u001b[0;31mTypeError\u001b[0m                                 Traceback (most recent call last)",
            "\u001b[0;32m<ipython-input-51-6c59dc04cefe>\u001b[0m in \u001b[0;36m<cell line: 0>\u001b[0;34m()\u001b[0m\n\u001b[1;32m      6\u001b[0m \u001b[0mprint\u001b[0m\u001b[0;34m(\u001b[0m\u001b[0;34m\"Length of Tuple = \"\u001b[0m\u001b[0;34m,\u001b[0m\u001b[0mlen\u001b[0m\u001b[0;34m(\u001b[0m\u001b[0mb\u001b[0m\u001b[0;34m)\u001b[0m\u001b[0;34m)\u001b[0m\u001b[0;34m\u001b[0m\u001b[0;34m\u001b[0m\u001b[0m\n\u001b[1;32m      7\u001b[0m \u001b[0;34m\u001b[0m\u001b[0m\n\u001b[0;32m----> 8\u001b[0;31m \u001b[0mb\u001b[0m\u001b[0;34m[\u001b[0m\u001b[0;36m0\u001b[0m\u001b[0;34m]\u001b[0m\u001b[0;34m=\u001b[0m\u001b[0;36m3\u001b[0m\u001b[0;34m\u001b[0m\u001b[0;34m\u001b[0m\u001b[0m\n\u001b[0m\u001b[1;32m      9\u001b[0m \u001b[0mprint\u001b[0m\u001b[0;34m(\u001b[0m\u001b[0mb\u001b[0m\u001b[0;34m)\u001b[0m\u001b[0;34m\u001b[0m\u001b[0;34m\u001b[0m\u001b[0m\n",
            "\u001b[0;31mTypeError\u001b[0m: 'tuple' object does not support item assignment"
          ]
        }
      ]
    },
    {
      "cell_type": "code",
      "execution_count": 117,
      "metadata": {
        "id": "yjtbcuS6rlFe",
        "outputId": "ce54dce5-33f0-42eb-fd41-943a4a037864",
        "colab": {
          "base_uri": "https://localhost:8080/",
          "height": 287
        }
      },
      "outputs": [
        {
          "output_type": "stream",
          "name": "stdout",
          "text": [
            "{1: 'Jan', 2: 'Feb', 3: 'Mar'}\n",
            "Jan\n",
            "<class 'dict'>\n",
            "dict_keys([1, 2, 3])\n",
            "dict_values(['Jan', 'Feb', 'Mar'])\n",
            "Updated to  {1: 'Jan', 2: 'Feb', 3: 'Mar', 10: 'Oct'}\n"
          ]
        },
        {
          "output_type": "error",
          "ename": "KeyError",
          "evalue": "0",
          "traceback": [
            "\u001b[0;31m---------------------------------------------------------------------------\u001b[0m",
            "\u001b[0;31mKeyError\u001b[0m                                  Traceback (most recent call last)",
            "\u001b[0;32m<ipython-input-117-11478f6cc705>\u001b[0m in \u001b[0;36m<cell line: 0>\u001b[0;34m()\u001b[0m\n\u001b[1;32m     12\u001b[0m \u001b[0mprint\u001b[0m\u001b[0;34m(\u001b[0m\u001b[0;34m\"Updated to \"\u001b[0m\u001b[0;34m,\u001b[0m\u001b[0ma\u001b[0m\u001b[0;34m)\u001b[0m\u001b[0;34m\u001b[0m\u001b[0;34m\u001b[0m\u001b[0m\n\u001b[1;32m     13\u001b[0m \u001b[0;34m\u001b[0m\u001b[0m\n\u001b[0;32m---> 14\u001b[0;31m \u001b[0mprint\u001b[0m\u001b[0;34m(\u001b[0m\u001b[0ma\u001b[0m\u001b[0;34m[\u001b[0m\u001b[0;36m0\u001b[0m\u001b[0;34m]\u001b[0m\u001b[0;34m)\u001b[0m\u001b[0;34m\u001b[0m\u001b[0;34m\u001b[0m\u001b[0m\n\u001b[0m",
            "\u001b[0;31mKeyError\u001b[0m: 0"
          ]
        }
      ],
      "source": [
        "# 딕셔너리\u001f\n",
        "a={1:\"Jan\",2:\"Feb\",3:\"Mar\"}\n",
        "\n",
        "print(a)\n",
        "print(a[1])\n",
        "print(type(a))\n",
        "\n",
        "print(a.keys())\n",
        "print(a.values())\n",
        "\n",
        "a[10]=\"Oct\"\n",
        "print(\"Updated to \",a)\n",
        "\n",
        "print(a[0])"
      ]
    },
    {
      "cell_type": "code",
      "source": [
        "# 참거짓 (boolean)\n",
        "a=True\n",
        "b=False\n",
        "\n",
        "print(a,b)\n",
        "print(type(a))\n",
        "\n",
        "if a:\n",
        "  print(\"a is true\")\n",
        "\n",
        "if not b :\n",
        "  print(\"b is not true\")"
      ],
      "metadata": {
        "colab": {
          "base_uri": "https://localhost:8080/"
        },
        "id": "QfquQxY2Lsjf",
        "outputId": "dbc729a6-7664-4802-e46a-d52d3ab2c85a"
      },
      "execution_count": 47,
      "outputs": [
        {
          "output_type": "stream",
          "name": "stdout",
          "text": [
            "True False\n",
            "<class 'bool'>\n",
            "a is true\n",
            "b is not true\n"
          ]
        }
      ]
    },
    {
      "cell_type": "markdown",
      "source": [
        "# **2. 리스트 다루기**\n",
        "인덱싱/스플라이싱/길이 구하기/더하기/반복하기/값 수정/값 삭제/append/insert/remove/sort/reverse/index/pop/count/expand"
      ],
      "metadata": {
        "id": "bUFkhFvpM35q"
      }
    },
    {
      "cell_type": "code",
      "source": [
        "# 리스트: 인덱싱, 슬라이싱, 길이 구하기\n",
        "a=[1,2,3,4,5,6,\"END\"]\n",
        "\n",
        "print(a,\"\\n\")\n",
        "\n",
        "print(a[2],a[3],a[-1])\n",
        "\n",
        "print(a[:2],a[0:-1])\n",
        "\n",
        "print(len(a))\n"
      ],
      "metadata": {
        "colab": {
          "base_uri": "https://localhost:8080/"
        },
        "id": "M2GDZARG8lIN",
        "outputId": "aed89cc8-36e6-4953-91ed-644550e12d84"
      },
      "execution_count": 202,
      "outputs": [
        {
          "output_type": "stream",
          "name": "stdout",
          "text": [
            "[1, 2, 3, 4, 5, 6, 'END'] \n",
            "\n",
            "3 4 END\n",
            "[1, 2] [1, 2, 3, 4, 5, 6]\n",
            "7\n"
          ]
        }
      ]
    },
    {
      "cell_type": "code",
      "execution_count": 203,
      "metadata": {
        "id": "AxuqtwBmrlFe",
        "outputId": "f81ab4d0-8e98-4d9d-e829-80ecfeb0f70d",
        "colab": {
          "base_uri": "https://localhost:8080/"
        }
      },
      "outputs": [
        {
          "output_type": "stream",
          "name": "stdout",
          "text": [
            "this that \n",
            "\n",
            "h\n",
            "th\n",
            "thisthat\n",
            "8\n"
          ]
        }
      ],
      "source": [
        "# 문자열: 인덱싱과 슬라이싱\n",
        "\n",
        "print(t1,t2,\"\\n\")\n",
        "\n",
        "print(t1[1])\n",
        "print(t1[:2])\n",
        "print(t1+t2)\n",
        "print(len(t1+t2))"
      ]
    },
    {
      "cell_type": "code",
      "source": [
        "# 리스트: 더하기와 반복하기\n",
        "b=[12,14,17]\n",
        "\n",
        "a3=a*3\n",
        "\n",
        "print(\"a:\",a)\n",
        "print(\"b:\",b)\n",
        "print(\"a+b:\",a+b)\n",
        "print(\"3*a:\",a3)"
      ],
      "metadata": {
        "colab": {
          "base_uri": "https://localhost:8080/"
        },
        "id": "ZTuRVVAXOl-k",
        "outputId": "8e9702af-e3b0-44b1-9417-e861e9ec85d3"
      },
      "execution_count": 204,
      "outputs": [
        {
          "output_type": "stream",
          "name": "stdout",
          "text": [
            "a: [1, 2, 3, 4, 5, 6, 'END']\n",
            "b: [12, 14, 17]\n",
            "a+b: [1, 2, 3, 4, 5, 6, 'END', 12, 14, 17]\n",
            "3*a: [1, 2, 3, 4, 5, 6, 'END', 1, 2, 3, 4, 5, 6, 'END', 1, 2, 3, 4, 5, 6, 'END']\n"
          ]
        }
      ]
    },
    {
      "cell_type": "code",
      "source": [
        "# 리스트: 값 수정 및 삭제\n",
        "print(a,\"\\n\")\n",
        "\n",
        "a[0]=7\n",
        "\n",
        "print(a)\n",
        "\n",
        "del a[-1]\n",
        "\n",
        "print(a)"
      ],
      "metadata": {
        "colab": {
          "base_uri": "https://localhost:8080/"
        },
        "id": "_ON8zODGPeTQ",
        "outputId": "2a2fd70d-13d6-4a59-bb66-bc7a66a751da"
      },
      "execution_count": 205,
      "outputs": [
        {
          "output_type": "stream",
          "name": "stdout",
          "text": [
            "[1, 2, 3, 4, 5, 6, 'END'] \n",
            "\n",
            "[7, 2, 3, 4, 5, 6, 'END']\n",
            "[7, 2, 3, 4, 5, 6]\n"
          ]
        }
      ]
    },
    {
      "cell_type": "code",
      "execution_count": 206,
      "metadata": {
        "id": "QbxCEIIxrlFd",
        "outputId": "1e6c748c-e674-4008-b2a0-2dc90b7a9b3b",
        "colab": {
          "base_uri": "https://localhost:8080/"
        }
      },
      "outputs": [
        {
          "output_type": "stream",
          "name": "stdout",
          "text": [
            "[7, 2, 3, 4, 5, 6, 4, [1, 2], 'END']\n",
            "[7, 17, 2, 3, 4, 5, 6, 4, [1, 2], 'END']\n"
          ]
        }
      ],
      "source": [
        "# 리스트: append와 insert\n",
        "\n",
        "a.append(4)\n",
        "a.append([1,2])\n",
        "a.append(\"END\")\n",
        "print(a)\n",
        "\n",
        "a.insert(1,17)\n",
        "print(a)"
      ]
    },
    {
      "cell_type": "code",
      "source": [
        "# 리스트: remove와 pop\n",
        "\n",
        "b=a.copy()\n",
        "print(b,'\\n')\n",
        "\n",
        "b.remove(4)\n",
        "print(b)\n",
        "\n",
        "b1=b.pop(-1)\n",
        "print(b)\n",
        "print(b1)"
      ],
      "metadata": {
        "colab": {
          "base_uri": "https://localhost:8080/"
        },
        "id": "xO27hcWYSMJR",
        "outputId": "b4953542-38fd-409a-fd00-61de23b40f9b"
      },
      "execution_count": 207,
      "outputs": [
        {
          "output_type": "stream",
          "name": "stdout",
          "text": [
            "[7, 17, 2, 3, 4, 5, 6, 4, [1, 2], 'END'] \n",
            "\n",
            "[7, 17, 2, 3, 5, 6, 4, [1, 2], 'END']\n",
            "[7, 17, 2, 3, 5, 6, 4, [1, 2]]\n",
            "END\n"
          ]
        }
      ]
    },
    {
      "cell_type": "code",
      "source": [
        "# 리스트: sort와 reverse\n",
        "a1=[4,1,2,5]\n",
        "a2=[\"a\",\"c\",\"b\"]\n",
        "\n",
        "a1.sort()\n",
        "a2.sort()\n",
        "\n",
        "print(a1)\n",
        "print(a2)\n",
        "\n",
        "print(a)\n",
        "a.reverse()\n",
        "print(a)"
      ],
      "metadata": {
        "colab": {
          "base_uri": "https://localhost:8080/"
        },
        "id": "_NSOBCzEQfTq",
        "outputId": "1ff713c3-80e9-4510-d31d-50db6a795b73"
      },
      "execution_count": 208,
      "outputs": [
        {
          "output_type": "stream",
          "name": "stdout",
          "text": [
            "[1, 2, 4, 5]\n",
            "['a', 'b', 'c']\n",
            "[7, 17, 2, 3, 4, 5, 6, 4, [1, 2], 'END']\n",
            "['END', [1, 2], 4, 6, 5, 4, 3, 2, 17, 7]\n"
          ]
        }
      ]
    },
    {
      "cell_type": "code",
      "source": [
        "# 리스트: index와 count\n",
        "\n",
        "a1=a.index(17)\n",
        "a2=a.index('END')\n",
        "\n",
        "print(a1,a2)\n",
        "\n",
        "a.count(4)\n",
        "# a.count(2)"
      ],
      "metadata": {
        "colab": {
          "base_uri": "https://localhost:8080/"
        },
        "id": "nVkA3HqpTlDc",
        "outputId": "74a49c8d-1ed0-4718-a5d0-f6a39b32125b"
      },
      "execution_count": 209,
      "outputs": [
        {
          "output_type": "stream",
          "name": "stdout",
          "text": [
            "8 0\n"
          ]
        },
        {
          "output_type": "execute_result",
          "data": {
            "text/plain": [
              "2"
            ]
          },
          "metadata": {},
          "execution_count": 209
        }
      ]
    },
    {
      "cell_type": "markdown",
      "source": [
        "# **3. IF**\n"
      ],
      "metadata": {
        "id": "I5147JZBbcjI"
      }
    },
    {
      "cell_type": "code",
      "source": [
        "# 참거짓 (boolean)\n",
        "a0=True\n",
        "b0=False\n",
        "\n",
        "print(a0,b0)\n",
        "print(type(a0))\n",
        "\n",
        "if a0:\n",
        "  print(\"a0 is true\")\n",
        "\n",
        "if not b0 :\n",
        "  print(\"b0 is not true\")"
      ],
      "metadata": {
        "colab": {
          "base_uri": "https://localhost:8080/"
        },
        "id": "ADbIeMuncAOs",
        "outputId": "758db1a1-aad1-4ba1-d80e-890a26f4c24a"
      },
      "execution_count": 200,
      "outputs": [
        {
          "output_type": "stream",
          "name": "stdout",
          "text": [
            "True False\n",
            "<class 'bool'>\n",
            "a0 is true\n",
            "b0 is not true\n"
          ]
        }
      ]
    },
    {
      "cell_type": "code",
      "source": [
        "if b0:\n",
        "  print(\"b0 is true\")\n",
        "else:\n",
        "  print(\"b0 is not true\")"
      ],
      "metadata": {
        "colab": {
          "base_uri": "https://localhost:8080/"
        },
        "id": "l8naa2rIcJaj",
        "outputId": "aba90bbe-dbed-403e-d58b-4779fac49c59"
      },
      "execution_count": 201,
      "outputs": [
        {
          "output_type": "stream",
          "name": "stdout",
          "text": [
            "b0 is not true\n"
          ]
        }
      ]
    },
    {
      "cell_type": "code",
      "source": [
        "a1=17\n",
        "a2=15\n",
        "a3=110\n",
        "\n",
        "if (a1>a2):\n",
        "  print(a1,\"is greater than\",a2)\n",
        "elif (a1==a2):\n",
        "  print(a1,\"is equal to\",a2)\n",
        "else:\n",
        "  print(a1,\"is less than\",a2)\n",
        "\n",
        "if (a1!=a2):\n",
        "  print(a1,\"is NOT equal to\",a2)"
      ],
      "metadata": {
        "colab": {
          "base_uri": "https://localhost:8080/"
        },
        "id": "EpbnzpiUcWye",
        "outputId": "a850c62e-caa4-451c-ab50-f1950b77cca6"
      },
      "execution_count": 218,
      "outputs": [
        {
          "output_type": "stream",
          "name": "stdout",
          "text": [
            "17 is greater than 15\n",
            "17 is NOT equal to 15\n"
          ]
        }
      ]
    },
    {
      "cell_type": "code",
      "source": [
        "if a1>a2 and a1>a3:\n",
        "  print(\"a1 is the largest\")\n",
        "\n",
        "if not (a1<a2):\n",
        "  print(\"a1 is greater than or equal to a2\")"
      ],
      "metadata": {
        "colab": {
          "base_uri": "https://localhost:8080/"
        },
        "id": "pKqwKu7Mc2f-",
        "outputId": "dc4be01d-67ad-4b47-f70a-fca6b64abbfc"
      },
      "execution_count": 219,
      "outputs": [
        {
          "output_type": "stream",
          "name": "stdout",
          "text": [
            "a1 is greater than or equal to a2\n"
          ]
        }
      ]
    },
    {
      "cell_type": "code",
      "source": [
        "print(a,'\\n')\n",
        "\n",
        "a0=False\n",
        "b0=False\n",
        "\n",
        "a0= 6 in a\n",
        "print(a0)\n",
        "b0= 9 not in a\n",
        "print(b0)"
      ],
      "metadata": {
        "colab": {
          "base_uri": "https://localhost:8080/"
        },
        "id": "6Z9yWeFXdcmA",
        "outputId": "3a6c9dbb-11ed-437c-c22d-ed4bd8ad5f30"
      },
      "execution_count": 220,
      "outputs": [
        {
          "output_type": "stream",
          "name": "stdout",
          "text": [
            "['END', [1, 2], 4, 6, 5, 4, 3, 2, 17, 7] \n",
            "\n",
            "True\n",
            "True\n"
          ]
        }
      ]
    },
    {
      "cell_type": "code",
      "source": [
        "# 조건부 표현식\n",
        "\n",
        "if a1 >=13:\n",
        "  message=\">13\"\n",
        "else:\n",
        "  message=\"<=13\"\n",
        "\n",
        "print(message)\n",
        "\n",
        "message = \">13\" if a1>=13 else \"<=13\"\n",
        "\n",
        "print(message)"
      ],
      "metadata": {
        "colab": {
          "base_uri": "https://localhost:8080/"
        },
        "id": "cuO5Vu6BeA3U",
        "outputId": "c18c0b27-7540-40d4-8779-50b630a438a6"
      },
      "execution_count": 222,
      "outputs": [
        {
          "output_type": "stream",
          "name": "stdout",
          "text": [
            ">13\n",
            ">13\n"
          ]
        }
      ]
    },
    {
      "cell_type": "markdown",
      "source": [
        "# **4. Loop**\n",
        "\n",
        "> For\n",
        ">\n",
        "> While"
      ],
      "metadata": {
        "id": "6CTkxx-PfHW5"
      }
    },
    {
      "cell_type": "code",
      "execution_count": 223,
      "metadata": {
        "id": "X-5m59JarlFg",
        "outputId": "22599e00-16d2-413a-94eb-ba433182e032",
        "colab": {
          "base_uri": "https://localhost:8080/"
        }
      },
      "outputs": [
        {
          "output_type": "stream",
          "name": "stdout",
          "text": [
            "1\n",
            "2\n",
            "3\n",
            "4\n",
            "5\n"
          ]
        }
      ],
      "source": [
        "for i in [1,2,3,4,5]:\n",
        "    print(i)"
      ]
    },
    {
      "cell_type": "code",
      "execution_count": 224,
      "metadata": {
        "id": "LYjQV6gDrlFg",
        "outputId": "1b6a5708-5e64-49d6-94c4-99aa22a755ba",
        "colab": {
          "base_uri": "https://localhost:8080/"
        }
      },
      "outputs": [
        {
          "output_type": "stream",
          "name": "stdout",
          "text": [
            "0\n",
            "1\n",
            "2\n",
            "3\n",
            "4\n",
            "5\n"
          ]
        }
      ],
      "source": [
        "for i in range(6):\n",
        "    print(i)"
      ]
    },
    {
      "cell_type": "code",
      "execution_count": 225,
      "metadata": {
        "id": "yGin2HborlFg",
        "outputId": "8a8b1f4f-d99e-4d4f-ec98-4b32615b286e",
        "colab": {
          "base_uri": "https://localhost:8080/"
        }
      },
      "outputs": [
        {
          "output_type": "stream",
          "name": "stdout",
          "text": [
            "3\n",
            "5\n",
            "7\n"
          ]
        }
      ],
      "source": [
        "a=[1,2,3,4,5,6,7,8,9,10]\n",
        "for i in a[2:8:2]:\n",
        "    print(i)"
      ]
    },
    {
      "cell_type": "code",
      "execution_count": null,
      "metadata": {
        "id": "xQgWchqwrlFh",
        "outputId": "ce1cedd4-6cbe-44f2-84be-cd06ae89bc0f"
      },
      "outputs": [
        {
          "name": "stdout",
          "output_type": "stream",
          "text": [
            "3\n",
            "13\n",
            "23\n",
            "33\n",
            "43\n",
            "53\n",
            "63\n",
            "73\n",
            "83\n",
            "93\n"
          ]
        }
      ],
      "source": [
        "for i in range(3,100,10):\n",
        "    print(i)"
      ]
    },
    {
      "cell_type": "code",
      "execution_count": 226,
      "metadata": {
        "outputId": "8835c9c7-3675-4666-ce54-f5f4ba13e1a6",
        "colab": {
          "base_uri": "https://localhost:8080/"
        },
        "id": "JWcC1OCrf15a"
      },
      "outputs": [
        {
          "output_type": "stream",
          "name": "stdout",
          "text": [
            "3\n",
            "13\n",
            "23\n",
            "33\n"
          ]
        }
      ],
      "source": [
        "for i in range(3,100,10):\n",
        "    print(i)\n",
        "    if (i>30):\n",
        "      break"
      ]
    },
    {
      "cell_type": "code",
      "execution_count": 227,
      "metadata": {
        "id": "Xo6nox7MrlFh",
        "outputId": "960a5546-8938-4b17-c1b2-0d7d4976424a",
        "colab": {
          "base_uri": "https://localhost:8080/"
        }
      },
      "outputs": [
        {
          "output_type": "stream",
          "name": "stdout",
          "text": [
            "0\n",
            "1\n",
            "2\n",
            "3\n",
            "4\n"
          ]
        }
      ],
      "source": [
        "a=0\n",
        "while a<5:\n",
        "    print(a)\n",
        "    a+=1"
      ]
    },
    {
      "cell_type": "code",
      "execution_count": 228,
      "metadata": {
        "id": "UDPfxsjerlFi",
        "outputId": "44d9897c-d30b-4959-ef18-0dbaf7f9bd4d",
        "colab": {
          "base_uri": "https://localhost:8080/"
        }
      },
      "outputs": [
        {
          "output_type": "stream",
          "name": "stdout",
          "text": [
            "0\n",
            "1\n",
            "2\n",
            "3\n",
            "4\n",
            "5\n",
            "6\n"
          ]
        }
      ],
      "source": [
        "a=0\n",
        "while a<10 :\n",
        "    print(a)\n",
        "    a+=1\n",
        "    if(a==7):\n",
        "        break"
      ]
    },
    {
      "cell_type": "markdown",
      "metadata": {
        "id": "mqAauH4VrlFi"
      },
      "source": [
        "## Quiz 1. 구구단의 2단과 8단을 출력해 보세요"
      ]
    },
    {
      "cell_type": "code",
      "execution_count": 229,
      "metadata": {
        "id": "WC9X0eiqrlFj",
        "outputId": "7507df8c-02c1-47e0-8467-40726ed8c087",
        "colab": {
          "base_uri": "https://localhost:8080/"
        }
      },
      "outputs": [
        {
          "output_type": "stream",
          "name": "stdout",
          "text": [
            "2 * 1 = 2\t8 * 1 = 8\t\n",
            "2 * 2 = 4\t8 * 2 = 16\t\n",
            "2 * 3 = 6\t8 * 3 = 24\t\n",
            "2 * 4 = 8\t8 * 4 = 32\t\n",
            "2 * 5 = 10\t8 * 5 = 40\t\n",
            "2 * 6 = 12\t8 * 6 = 48\t\n",
            "2 * 7 = 14\t8 * 7 = 56\t\n",
            "2 * 8 = 16\t8 * 8 = 64\t\n",
            "2 * 9 = 18\t8 * 9 = 72\t\n"
          ]
        }
      ],
      "source": [
        "for i in range(1,10):\n",
        "    for j in [2,8]:\n",
        "        print(j,\"*\",i,\"=\",j*i,end=\"\\t\")\n",
        "    print()"
      ]
    },
    {
      "cell_type": "markdown",
      "metadata": {
        "id": "jM0EDh1TrlFk"
      },
      "source": [
        "## **5. Input & Output**"
      ]
    },
    {
      "cell_type": "code",
      "execution_count": 268,
      "metadata": {
        "id": "n3g7wI9zrlFk"
      },
      "outputs": [],
      "source": [
        "# 파일 쓰기\n",
        "f=open(\"text.txt\",\"w\")\n",
        "\n",
        "for i in range(1,10):\n",
        "\n",
        "    f.write(str(i))\n",
        "    f.write(\"\\t\")\n",
        "    f.write(str(i*10))\n",
        "    f.write(\"\\n\")\n",
        "\n",
        "f.close()"
      ]
    },
    {
      "cell_type": "code",
      "source": [
        "# 파일 읽기\n",
        "f=open(\"text.txt\",\"r\")\n",
        "\n",
        "lines = f.readlines()\n",
        "for line in lines:\n",
        "    line = line.strip()  # 줄 끝의 줄 바꿈 문자를 제거한다.\n",
        "    print(line)\n",
        "\n",
        "f.close()"
      ],
      "metadata": {
        "colab": {
          "base_uri": "https://localhost:8080/"
        },
        "id": "PzMpocFy1wGs",
        "outputId": "bd1ebe05-7ef5-4725-a576-018fb2f08af0"
      },
      "execution_count": 264,
      "outputs": [
        {
          "output_type": "stream",
          "name": "stdout",
          "text": [
            "1\t10\n",
            "2\t20\n",
            "3\t30\n",
            "4\t40\n",
            "5\t50\n",
            "6\t60\n",
            "7\t70\n",
            "8\t80\n",
            "9\t90\n"
          ]
        }
      ]
    },
    {
      "cell_type": "code",
      "source": [
        "# 파일 읽기\n",
        "f=open(\"text.txt\",\"r\")\n",
        "\n",
        "data = f.read()\n",
        "print(data)\n",
        "\n",
        "f.close()"
      ],
      "metadata": {
        "colab": {
          "base_uri": "https://localhost:8080/"
        },
        "id": "4UKQO_e3168_",
        "outputId": "d14d8cb8-0cf6-4595-c1a5-bed13e83777c"
      },
      "execution_count": 267,
      "outputs": [
        {
          "output_type": "stream",
          "name": "stdout",
          "text": [
            "1\t10\n",
            "2\t20\n",
            "3\t30\n",
            "4\t40\n",
            "5\t50\n",
            "6\t60\n",
            "7\t70\n",
            "8\t80\n",
            "9\t90\n",
            "\n"
          ]
        }
      ]
    },
    {
      "cell_type": "code",
      "execution_count": 289,
      "metadata": {
        "id": "BW7OqhjxrlFk",
        "outputId": "ff10430e-eef0-4074-9866-5ff05b4c9be4",
        "colab": {
          "base_uri": "https://localhost:8080/"
        }
      },
      "outputs": [
        {
          "output_type": "stream",
          "name": "stdout",
          "text": [
            "1\t10\n",
            "2\t20\n",
            "3\t30\n",
            "4\t40\n",
            "5\t50\n",
            "6\t60\n",
            "7\t70\n",
            "8\t80\n",
            "9\t90\n"
          ]
        }
      ],
      "source": [
        "# 파일 읽기\n",
        "with open(\"text.txt\") as f:\n",
        "\n",
        "    lines=f.readlines()\n",
        "    for line in lines:\n",
        "      print(line,end=\"\")"
      ]
    },
    {
      "cell_type": "markdown",
      "metadata": {
        "id": "wrzEvxWb5A75"
      },
      "source": [
        "## **6. Function**"
      ]
    },
    {
      "cell_type": "code",
      "execution_count": 299,
      "metadata": {
        "id": "XtUACz_qrlFl",
        "outputId": "778bbe42-1d82-4e50-d3c4-423ae44299c8",
        "colab": {
          "base_uri": "https://localhost:8080/"
        }
      },
      "outputs": [
        {
          "output_type": "stream",
          "name": "stdout",
          "text": [
            "1 + 2 = 3\n"
          ]
        }
      ],
      "source": [
        "def add(a,b):\n",
        "    return a+b\n",
        "\n",
        "a=1\n",
        "b=2\n",
        "\n",
        "print(a,\"+\",b,\"=\",add(a,b))"
      ]
    },
    {
      "cell_type": "code",
      "execution_count": 298,
      "metadata": {
        "id": "O9EClG_urlFl",
        "outputId": "ffe94b25-0d55-4405-a2ce-e5020374f9d5",
        "colab": {
          "base_uri": "https://localhost:8080/"
        }
      },
      "outputs": [
        {
          "output_type": "stream",
          "name": "stdout",
          "text": [
            "1 + 2 = 3\n"
          ]
        }
      ],
      "source": [
        "def add2(a,b):\n",
        "    print(a,\"+\",b,\"=\",a+b)\n",
        "    return None\n",
        "\n",
        "add2(1,2)"
      ]
    },
    {
      "cell_type": "code",
      "source": [
        "def multi(a,b):\n",
        "    return a*b\n",
        "\n",
        "for i in range(1,10):\n",
        "  print(3,\"*\",i,\"=\",multi(3,i))"
      ],
      "metadata": {
        "colab": {
          "base_uri": "https://localhost:8080/"
        },
        "id": "3LqjJfV25U03",
        "outputId": "8cb0ce18-1af9-44b9-aa82-a31f744985c8"
      },
      "execution_count": 302,
      "outputs": [
        {
          "output_type": "stream",
          "name": "stdout",
          "text": [
            "3 * 1 = 3\n",
            "3 * 2 = 6\n",
            "3 * 3 = 9\n",
            "3 * 4 = 12\n",
            "3 * 5 = 15\n",
            "3 * 6 = 18\n",
            "3 * 7 = 21\n",
            "3 * 8 = 24\n",
            "3 * 9 = 27\n"
          ]
        }
      ]
    }
  ],
  "metadata": {
    "kernelspec": {
      "display_name": "Python 3",
      "language": "python",
      "name": "python3"
    },
    "language_info": {
      "codemirror_mode": {
        "name": "ipython",
        "version": 3
      },
      "file_extension": ".py",
      "mimetype": "text/x-python",
      "name": "python",
      "nbconvert_exporter": "python",
      "pygments_lexer": "ipython3",
      "version": "3.7.13"
    },
    "colab": {
      "provenance": [],
      "name": "1_Python.ipynb",
      "include_colab_link": true
    }
  },
  "nbformat": 4,
  "nbformat_minor": 0
}