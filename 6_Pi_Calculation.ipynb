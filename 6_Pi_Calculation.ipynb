{
  "cells": [
    {
      "cell_type": "markdown",
      "metadata": {
        "id": "view-in-github",
        "colab_type": "text"
      },
      "source": [
        "<a href=\"https://colab.research.google.com/github/junsookim76/Ewha_2023/blob/main/6_Pi_Calculation.ipynb\" target=\"_parent\"><img src=\"https://colab.research.google.com/assets/colab-badge.svg\" alt=\"Open In Colab\"/></a>"
      ]
    },
    {
      "cell_type": "markdown",
      "metadata": {
        "id": "TCI3QL8iZaqy"
      },
      "source": [
        "# Calculation of Pi on 2023_05_10 "
      ]
    },
    {
      "cell_type": "code",
      "execution_count": null,
      "metadata": {
        "id": "PCUTWUjzZaq0"
      },
      "outputs": [],
      "source": [
        "import numpy as np\n",
        "from numpy import random\n",
        "import matplotlib.pyplot as plt\n",
        "from scipy.optimize import curve_fit\n",
        "import datetime as dt\n"
      ]
    },
    {
      "cell_type": "markdown",
      "metadata": {
        "jp-MarkdownHeadingCollapsed": true,
        "tags": [],
        "id": "rH2F6c1vZaq2"
      },
      "source": [
        "\n",
        "# <font color=crimson>Table of Contents</font>\n",
        "\n",
        "* __(5/10) Calculation of Pi__\n",
        ">\n",
        ">1. True value of pi\n",
        ">2. The most efficient\n",
        ">3. The moderately efficient\n",
        ">4. The least efficient\n",
        ">\n"
      ]
    },
    {
      "cell_type": "markdown",
      "metadata": {
        "id": "s7fK58LWZaq2"
      },
      "source": [
        "#### 1. True Value"
      ]
    },
    {
      "cell_type": "code",
      "execution_count": null,
      "metadata": {
        "id": "fmRylqyhZaq2",
        "outputId": "f8c46b9c-4efc-4ab8-a652-4afc9835f2a2"
      },
      "outputs": [
        {
          "name": "stdout",
          "output_type": "stream",
          "text": [
            "3.141592653589793\n"
          ]
        }
      ],
      "source": [
        "print(np.pi)"
      ]
    },
    {
      "cell_type": "markdown",
      "metadata": {
        "id": "2k5ilwwyZaq3"
      },
      "source": [
        "#### 2. Most Efficient"
      ]
    },
    {
      "cell_type": "code",
      "execution_count": null,
      "metadata": {
        "id": "8Y3_DqB5Zaq3",
        "outputId": "25594296-0a01-4d36-e8e6-563a3469d4ba"
      },
      "outputs": [
        {
          "name": "stdout",
          "output_type": "stream",
          "text": [
            "Start at  2023-05-10 06:01:11.739152\n",
            "Done  at  2023-05-10 06:01:12.672885\n",
            "\n",
            "Number of random points = 1.00e+07\n",
            "\n",
            "Pi =  3.1425024\n"
          ]
        }
      ],
      "source": [
        "print(\"Start at \",dt.datetime.today())\n",
        "\n",
        "npts = 10000000\n",
        "\n",
        "r0 = (1.,1.)\n",
        "\n",
        "rxy = 2*random.rand(npts,2)\n",
        "\n",
        "pin = 0\n",
        "\n",
        "rabs=np.sqrt(np.sum((rxy[:,:]-r0)**2,axis=1))\n",
        "\n",
        "pin=len(rabs[rabs<1.0])\n",
        "\n",
        "print(\"Done  at \",dt.datetime.today())\n",
        "\n",
        "print(\"\\nNumber of random points = %.2e\" %npts)\n",
        "\n",
        "print(\"\\nPi = \",pin/npts*4)"
      ]
    },
    {
      "cell_type": "markdown",
      "metadata": {
        "id": "JH60TRfLZaq3"
      },
      "source": [
        "#### 3. Moderately Efficient"
      ]
    },
    {
      "cell_type": "code",
      "execution_count": null,
      "metadata": {
        "id": "JnUPDonIZaq4",
        "outputId": "a1d0e784-5e24-4bb4-c8c6-e08e933c52db"
      },
      "outputs": [
        {
          "name": "stdout",
          "output_type": "stream",
          "text": [
            "Start at  2022-02-14 11:02:02.940601\n",
            "Done  at  2022-02-14 11:02:11.440027\n",
            "\n",
            "Pi =  3.1415572\n"
          ]
        }
      ],
      "source": [
        "print(\"Start at \",dt.datetime.today())\n",
        "\n",
        "npts = 10000000\n",
        "\n",
        "r0 = (1.,1.)\n",
        "\n",
        "rxy = 2*random.rand(npts,2)\n",
        "\n",
        "#pi_cal = []   # This is\n",
        "\n",
        "pin = 0\n",
        "\n",
        "rabs=np.sqrt(np.sum((rxy[:,:]-r0)**2,axis=1))\n",
        "\n",
        "for ip in range(npts):\n",
        "    \n",
        "    if (rabs[ip]<1.0):\n",
        "        pin += 1\n",
        "    \n",
        "#    if (ip+1==1000 or ip+1==10000 or ip+1==100000 or ip+1==1000000 or ip+1==10000000 or ip+1==100000000):\n",
        "#        pi_cal.append(pin/ip*4)\n",
        "\n",
        "print(\"Done  at \",dt.datetime.today())\n",
        "\n",
        "print(\"\\nNumber of random points = %.2e\" %npts)\n",
        "\n",
        "print(\"\\nPi = \",pin/npts*4)"
      ]
    },
    {
      "cell_type": "markdown",
      "metadata": {
        "id": "YySAZVEpZaq4"
      },
      "source": [
        "#### 4. The Least Efficient"
      ]
    },
    {
      "cell_type": "code",
      "execution_count": null,
      "metadata": {
        "id": "yF3MuhrkZaq4",
        "outputId": "31af8c63-ef28-4553-90c8-67efd98cf87e"
      },
      "outputs": [
        {
          "name": "stdout",
          "output_type": "stream",
          "text": [
            "Start at  2022-02-14 11:03:54.190026\n",
            "Done  at  2022-02-14 11:12:41.083852\n",
            "\n",
            "Pi =  3.1414092\n"
          ]
        }
      ],
      "source": [
        "print(\"Start at \",dt.datetime.today())\n",
        "\n",
        "npts = 10000000\n",
        "\n",
        "r0 = (1.,1.)\n",
        "\n",
        "rxy = 2*random.rand(npts,2)\n",
        "\n",
        "pin = 0\n",
        "\n",
        "for ip in range(npts):\n",
        "    rabs=np.sqrt(np.sum((rxy[ip,:]-r0)**2,axis=0))\n",
        "    if (rabs<1.0):\n",
        "        pin += 1\n",
        "\n",
        "print(\"Done  at \",dt.datetime.today())\n",
        "\n",
        "print(\"\\nNumber of random points = %.2e\" %npts)\n",
        "\n",
        "print(\"\\nPi = \",pin/npts*4)"
      ]
    }
  ],
  "metadata": {
    "kernelspec": {
      "display_name": "Python 3",
      "language": "python",
      "name": "python3"
    },
    "language_info": {
      "codemirror_mode": {
        "name": "ipython",
        "version": 3
      },
      "file_extension": ".py",
      "mimetype": "text/x-python",
      "name": "python",
      "nbconvert_exporter": "python",
      "pygments_lexer": "ipython3",
      "version": "3.7.13"
    },
    "colab": {
      "provenance": [],
      "include_colab_link": true
    }
  },
  "nbformat": 4,
  "nbformat_minor": 0
}