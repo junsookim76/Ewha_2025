{
  "cells": [
    {
      "cell_type": "markdown",
      "metadata": {
        "id": "view-in-github",
        "colab_type": "text"
      },
      "source": [
        "<a href=\"https://colab.research.google.com/github/junsookim76/Ewha_2025/blob/main/2_Numpy_Updated.ipynb\" target=\"_parent\"><img src=\"https://colab.research.google.com/assets/colab-badge.svg\" alt=\"Open In Colab\"/></a>"
      ]
    },
    {
      "cell_type": "markdown",
      "metadata": {
        "id": "0qrIIE97B9Gx"
      },
      "source": [
        "# Numpy\n",
        "\n",
        "> Import \"numpy\"\n",
        ">\n",
        "> The fundamental package for scientific computing with Python\n"
      ]
    },
    {
      "cell_type": "code",
      "execution_count": null,
      "metadata": {
        "id": "CKS9A6d6B9Gy"
      },
      "outputs": [],
      "source": [
        "import numpy as np\n",
        "\n",
        "import matplotlib.pyplot as plt\n",
        "import sys,os,copy,random,math\n",
        "%matplotlib inline"
      ]
    },
    {
      "cell_type": "markdown",
      "metadata": {
        "id": "QUkBYTTzB9Gz"
      },
      "source": [
        "## **1. Introducing numpy array**"
      ]
    },
    {
      "cell_type": "code",
      "execution_count": null,
      "metadata": {
        "id": "DgQ3bsT8B9Gz",
        "outputId": "5ad34d71-656e-4421-a411-11c257b60dcc",
        "colab": {
          "base_uri": "https://localhost:8080/"
        }
      },
      "outputs": [
        {
          "output_type": "stream",
          "name": "stdout",
          "text": [
            "[1, 2, 3, 4, 5, 6, 7, 8]\n",
            "<class 'list'>\n",
            "8\n",
            "<class 'numpy.ndarray'>\n",
            "[1 2 3 4 5 6 7 8]\n",
            "int64\n",
            "(8,)\n"
          ]
        }
      ],
      "source": [
        "array=[1,2,3,4,5,6,7,8]\n",
        "\n",
        "print(array)\n",
        "print(type(array))\n",
        "print(len(array))\n",
        "\n",
        "numpy_array=np.array(array)\n",
        "print(type(numpy_array))\n",
        "print(numpy_array)\n",
        "print(numpy_array.dtype)\n",
        "print(numpy_array.shape)"
      ]
    },
    {
      "cell_type": "code",
      "source": [
        "array2=2*array\n",
        "\n",
        "print(array)\n",
        "print(array2)\n",
        "\n",
        "numpy_array2=2*numpy_array\n",
        "print(numpy_array)\n",
        "print(numpy_array2)\n"
      ],
      "metadata": {
        "colab": {
          "base_uri": "https://localhost:8080/"
        },
        "id": "2e8rxExF9ekU",
        "outputId": "c70415e1-0320-43fa-f80e-6d05306ff54c"
      },
      "execution_count": null,
      "outputs": [
        {
          "output_type": "stream",
          "name": "stdout",
          "text": [
            "[1, 2, 3, 4, 5, 6, 7, 8]\n",
            "[1, 2, 3, 4, 5, 6, 7, 8, 1, 2, 3, 4, 5, 6, 7, 8]\n",
            "[1 2 3 4 5 6 7 8]\n",
            "[ 2  4  6  8 10 12 14 16]\n"
          ]
        }
      ]
    },
    {
      "cell_type": "code",
      "source": [
        "numpy_array3=np.array([1,2,3,4,5,6,7,8])\n",
        "print(type(numpy_array3))\n",
        "print(numpy_array3)\n",
        "print(numpy_array3.dtype)\n",
        "print(numpy_array3.shape)\n"
      ],
      "metadata": {
        "colab": {
          "base_uri": "https://localhost:8080/"
        },
        "id": "1OFY_ft-ABMN",
        "outputId": "ad5c1cb6-3ebe-4f81-c2d7-c3acfbd51fe7"
      },
      "execution_count": null,
      "outputs": [
        {
          "output_type": "stream",
          "name": "stdout",
          "text": [
            "<class 'numpy.ndarray'>\n",
            "[1 2 3 4 5 6 7 8]\n",
            "int64\n",
            "(8,)\n"
          ]
        }
      ]
    },
    {
      "cell_type": "code",
      "source": [
        "numpy_array4=np.arange(1,9)\n",
        "print(type(numpy_array4))\n",
        "print(numpy_array4)\n",
        "print(numpy_array4.dtype)\n",
        "print(numpy_array4.shape)\n"
      ],
      "metadata": {
        "colab": {
          "base_uri": "https://localhost:8080/"
        },
        "id": "rZmUcH9dAI6p",
        "outputId": "4a49c739-e26f-40a4-ded3-c5d949d10815"
      },
      "execution_count": null,
      "outputs": [
        {
          "output_type": "stream",
          "name": "stdout",
          "text": [
            "<class 'numpy.ndarray'>\n",
            "[1 2 3 4 5 6 7 8]\n",
            "int64\n",
            "(8,)\n"
          ]
        }
      ]
    },
    {
      "cell_type": "markdown",
      "metadata": {
        "id": "QXfWUrkdB9G0"
      },
      "source": [
        "## **2. Change array shape**"
      ]
    },
    {
      "cell_type": "code",
      "execution_count": null,
      "metadata": {
        "id": "LCUDgq1oB9G0",
        "outputId": "a41bf0fc-8fd6-4646-e957-27e05b5af028",
        "colab": {
          "base_uri": "https://localhost:8080/"
        }
      },
      "outputs": [
        {
          "output_type": "stream",
          "name": "stdout",
          "text": [
            "[[1 2 3 4]\n",
            " [5 6 7 8]]\n",
            "(2, 4)\n"
          ]
        }
      ],
      "source": [
        "new_array=np.reshape(array,(2,4))\n",
        "print(new_array)\n",
        "print(new_array.shape)"
      ]
    },
    {
      "cell_type": "code",
      "execution_count": null,
      "metadata": {
        "id": "ZnMgZCsgB9G0",
        "outputId": "ab28d30e-85a5-43cb-9ab5-6a8994a4b33a",
        "colab": {
          "base_uri": "https://localhost:8080/"
        }
      },
      "outputs": [
        {
          "output_type": "stream",
          "name": "stdout",
          "text": [
            "[[1 2 3 4]\n",
            " [5 6 7 8]]\n"
          ]
        }
      ],
      "source": [
        "new_array=np.reshape(array,(2,-1))\n",
        "print(new_array)"
      ]
    },
    {
      "cell_type": "markdown",
      "metadata": {
        "id": "1uCwqh0QB9G0"
      },
      "source": [
        "## **3.Indexing and slicing**"
      ]
    },
    {
      "cell_type": "code",
      "execution_count": null,
      "metadata": {
        "id": "Bj95RfQAB9G0",
        "outputId": "3d79e21d-2a57-4492-ba38-d42c1223fdd1",
        "colab": {
          "base_uri": "https://localhost:8080/"
        }
      },
      "outputs": [
        {
          "output_type": "stream",
          "name": "stdout",
          "text": [
            "7\n",
            "7\n"
          ]
        }
      ],
      "source": [
        "print(new_array[1,2])\n",
        "print(new_array[1][2])"
      ]
    },
    {
      "cell_type": "code",
      "execution_count": null,
      "metadata": {
        "id": "DBzTj1H9B9G1",
        "outputId": "5a1ba302-8ee9-431c-a86e-4b43a96e669c",
        "colab": {
          "base_uri": "https://localhost:8080/"
        }
      },
      "outputs": [
        {
          "output_type": "execute_result",
          "data": {
            "text/plain": [
              "array([5, 6, 7, 8])"
            ]
          },
          "metadata": {},
          "execution_count": 37
        }
      ],
      "source": [
        "new_array[1,:]"
      ]
    },
    {
      "cell_type": "code",
      "execution_count": null,
      "metadata": {
        "id": "mwFXnYxFB9G1",
        "outputId": "c6eb5f03-21fc-4b37-e00f-1fe6c98d17ea",
        "colab": {
          "base_uri": "https://localhost:8080/"
        }
      },
      "outputs": [
        {
          "output_type": "execute_result",
          "data": {
            "text/plain": [
              "array([1, 3])"
            ]
          },
          "metadata": {},
          "execution_count": 38
        }
      ],
      "source": [
        "new_array[0,::2]"
      ]
    },
    {
      "cell_type": "code",
      "execution_count": null,
      "metadata": {
        "id": "PJ0B7tJfB9G1",
        "outputId": "69d9732a-28aa-4b7f-f17f-d2304c99289b",
        "colab": {
          "base_uri": "https://localhost:8080/"
        }
      },
      "outputs": [
        {
          "output_type": "execute_result",
          "data": {
            "text/plain": [
              "array([2, 4])"
            ]
          },
          "metadata": {},
          "execution_count": 39
        }
      ],
      "source": [
        "new_array[0,1::2]"
      ]
    },
    {
      "cell_type": "code",
      "execution_count": null,
      "metadata": {
        "id": "A9Gc1_dmB9G1",
        "outputId": "0bb36881-de1d-4a7f-e780-33ff0c018f44",
        "colab": {
          "base_uri": "https://localhost:8080/"
        }
      },
      "outputs": [
        {
          "output_type": "execute_result",
          "data": {
            "text/plain": [
              "array([[1, 2],\n",
              "       [5, 6]])"
            ]
          },
          "metadata": {},
          "execution_count": 40
        }
      ],
      "source": [
        "array2=new_array[:,:2]\n",
        "array2"
      ]
    },
    {
      "cell_type": "code",
      "execution_count": null,
      "metadata": {
        "id": "D2XgxF3EB9G1",
        "outputId": "efd9a6af-86db-4c2d-c506-510717311253",
        "colab": {
          "base_uri": "https://localhost:8080/"
        }
      },
      "outputs": [
        {
          "output_type": "execute_result",
          "data": {
            "text/plain": [
              "array([[0., 0., 0., 0., 0., 0., 0., 0.],\n",
              "       [0., 0., 0., 0., 0., 0., 0., 0.],\n",
              "       [0., 0., 0., 0., 0., 0., 0., 0.],\n",
              "       [0., 0., 0., 0., 0., 0., 0., 0.],\n",
              "       [0., 0., 0., 0., 0., 0., 0., 0.],\n",
              "       [0., 0., 0., 0., 0., 0., 0., 0.],\n",
              "       [0., 0., 0., 0., 0., 0., 0., 0.],\n",
              "       [0., 0., 0., 0., 0., 0., 0., 0.]])"
            ]
          },
          "metadata": {},
          "execution_count": 41
        }
      ],
      "source": [
        "new2=np.zeros((8,8))\n",
        "new2"
      ]
    },
    {
      "cell_type": "code",
      "execution_count": null,
      "metadata": {
        "id": "y-iRrz8SB9G2",
        "outputId": "09bcdf1f-d18e-463b-c282-a2a0d6de8212",
        "colab": {
          "base_uri": "https://localhost:8080/"
        }
      },
      "outputs": [
        {
          "output_type": "execute_result",
          "data": {
            "text/plain": [
              "array([[0., 0., 0., 0., 0., 0., 0., 0.],\n",
              "       [0., 0., 0., 0., 0., 0., 0., 0.],\n",
              "       [0., 0., 0., 0., 1., 0., 2., 0.],\n",
              "       [0., 0., 0., 0., 0., 0., 0., 0.],\n",
              "       [0., 0., 0., 0., 0., 0., 0., 0.],\n",
              "       [0., 0., 0., 0., 5., 0., 6., 0.],\n",
              "       [0., 0., 0., 0., 0., 0., 0., 0.],\n",
              "       [0., 0., 0., 0., 0., 0., 0., 0.]])"
            ]
          },
          "metadata": {},
          "execution_count": 42
        }
      ],
      "source": [
        "new2[2::3,4::2]=array2\n",
        "new2"
      ]
    },
    {
      "cell_type": "code",
      "execution_count": null,
      "metadata": {
        "id": "_6OEjcwrB9G2",
        "outputId": "30810147-b095-46e1-d55c-1a5a11cb469f",
        "colab": {
          "base_uri": "https://localhost:8080/"
        }
      },
      "outputs": [
        {
          "output_type": "stream",
          "name": "stdout",
          "text": [
            "[[1 2 3 4]\n",
            " [5 6 7 8]]\n"
          ]
        },
        {
          "output_type": "execute_result",
          "data": {
            "text/plain": [
              "array([[False, False,  True,  True],\n",
              "       [ True,  True,  True,  True]])"
            ]
          },
          "metadata": {},
          "execution_count": 44
        }
      ],
      "source": [
        "print(new_array)\n",
        "new_array>2"
      ]
    },
    {
      "cell_type": "code",
      "execution_count": null,
      "metadata": {
        "id": "GpHJs-E0B9G2",
        "outputId": "f8e8e447-21bf-45db-b45d-03d0b62efd32",
        "colab": {
          "base_uri": "https://localhost:8080/"
        }
      },
      "outputs": [
        {
          "output_type": "execute_result",
          "data": {
            "text/plain": [
              "array([3, 4, 5, 6, 7, 8])"
            ]
          },
          "metadata": {},
          "execution_count": 45
        }
      ],
      "source": [
        "new_array[new_array>2]"
      ]
    },
    {
      "cell_type": "markdown",
      "metadata": {
        "id": "yj_jGZu1B9G2"
      },
      "source": [
        "## **4.Calculation**"
      ]
    },
    {
      "cell_type": "code",
      "execution_count": null,
      "metadata": {
        "id": "HUIuEhlRB9G2",
        "outputId": "1efe77b0-92af-459e-cccd-70dac0caca99",
        "colab": {
          "base_uri": "https://localhost:8080/"
        }
      },
      "outputs": [
        {
          "output_type": "execute_result",
          "data": {
            "text/plain": [
              "array([[1, 2, 3, 4],\n",
              "       [5, 6, 7, 8]])"
            ]
          },
          "metadata": {},
          "execution_count": 46
        }
      ],
      "source": [
        "new_array"
      ]
    },
    {
      "cell_type": "code",
      "execution_count": null,
      "metadata": {
        "id": "7ZkRVoGtB9G2",
        "outputId": "3c3832f4-2d24-47e1-9396-191398ab1e3a",
        "colab": {
          "base_uri": "https://localhost:8080/"
        }
      },
      "outputs": [
        {
          "output_type": "execute_result",
          "data": {
            "text/plain": [
              "array([[ 3,  4,  5,  6],\n",
              "       [ 7,  8,  9, 10]])"
            ]
          },
          "metadata": {},
          "execution_count": 47
        }
      ],
      "source": [
        "new_array+2"
      ]
    },
    {
      "cell_type": "code",
      "execution_count": null,
      "metadata": {
        "id": "orMpr7I-B9G2",
        "outputId": "c5e1aa3f-50e8-4b2b-9771-0d467b620852",
        "colab": {
          "base_uri": "https://localhost:8080/"
        }
      },
      "outputs": [
        {
          "output_type": "execute_result",
          "data": {
            "text/plain": [
              "array([[1., 1., 1., 1.],\n",
              "       [1., 1., 1., 1.]])"
            ]
          },
          "metadata": {},
          "execution_count": 48
        }
      ],
      "source": [
        "new_array/new_array"
      ]
    },
    {
      "cell_type": "code",
      "execution_count": null,
      "metadata": {
        "id": "aWqgBpecB9G3",
        "outputId": "289d34ee-416e-4632-f04b-c11a0743e392",
        "colab": {
          "base_uri": "https://localhost:8080/"
        }
      },
      "outputs": [
        {
          "output_type": "execute_result",
          "data": {
            "text/plain": [
              "array([ 6,  8, 10, 12])"
            ]
          },
          "metadata": {},
          "execution_count": 49
        }
      ],
      "source": [
        "np.sum(new_array,axis=0)"
      ]
    },
    {
      "cell_type": "code",
      "execution_count": null,
      "metadata": {
        "id": "L2OBUc8uB9G3",
        "outputId": "ef653a9d-c2cf-49ef-8640-49cbbb362bc5",
        "colab": {
          "base_uri": "https://localhost:8080/"
        }
      },
      "outputs": [
        {
          "output_type": "execute_result",
          "data": {
            "text/plain": [
              "array([10, 26])"
            ]
          },
          "metadata": {},
          "execution_count": 50
        }
      ],
      "source": [
        "np.sum(new_array,axis=1)"
      ]
    },
    {
      "cell_type": "code",
      "execution_count": null,
      "metadata": {
        "id": "5hL0NBf8B9G3",
        "outputId": "55731797-2ceb-4b28-e5f7-55cdd5830113",
        "colab": {
          "base_uri": "https://localhost:8080/"
        }
      },
      "outputs": [
        {
          "output_type": "execute_result",
          "data": {
            "text/plain": [
              "array([1, 2, 3, 4])"
            ]
          },
          "metadata": {},
          "execution_count": 51
        }
      ],
      "source": [
        "new_array[0]"
      ]
    },
    {
      "cell_type": "code",
      "execution_count": null,
      "metadata": {
        "id": "kYcPHs_DB9G3",
        "outputId": "8283feac-d8df-4207-adbb-e289efa2abe2",
        "colab": {
          "base_uri": "https://localhost:8080/"
        }
      },
      "outputs": [
        {
          "output_type": "execute_result",
          "data": {
            "text/plain": [
              "70"
            ]
          },
          "metadata": {},
          "execution_count": 52
        }
      ],
      "source": [
        "np.dot(new_array[0],new_array[1])"
      ]
    },
    {
      "cell_type": "markdown",
      "metadata": {
        "id": "NBw8QNDIB9G3"
      },
      "source": [
        "## **5. Input & Output**"
      ]
    },
    {
      "cell_type": "code",
      "execution_count": null,
      "metadata": {
        "id": "qO3ApiWqB9G3"
      },
      "outputs": [],
      "source": [
        "np.savetxt(\"data.txt\",new_array)"
      ]
    },
    {
      "cell_type": "code",
      "execution_count": null,
      "metadata": {
        "id": "KH5rGI4nB9G3",
        "outputId": "17292904-739b-43c8-bfaf-c9d1edc0c670",
        "colab": {
          "base_uri": "https://localhost:8080/"
        }
      },
      "outputs": [
        {
          "output_type": "execute_result",
          "data": {
            "text/plain": [
              "array([[1., 2., 3., 4.],\n",
              "       [5., 6., 7., 8.]])"
            ]
          },
          "metadata": {},
          "execution_count": 56
        }
      ],
      "source": [
        "array=np.loadtxt(\"data.txt\")\n",
        "array"
      ]
    },
    {
      "cell_type": "code",
      "source": [
        "print(array[0])\n",
        "print(array[:,1])"
      ],
      "metadata": {
        "colab": {
          "base_uri": "https://localhost:8080/"
        },
        "id": "mGXF0-ceCH0d",
        "outputId": "89cf1d8d-7378-41a3-cf6e-0065c438fc59"
      },
      "execution_count": null,
      "outputs": [
        {
          "output_type": "stream",
          "name": "stdout",
          "text": [
            "[1. 2. 3. 4.]\n",
            "[2. 6.]\n"
          ]
        }
      ]
    },
    {
      "cell_type": "markdown",
      "metadata": {
        "id": "SAGQjZ3rB9G4"
      },
      "source": [
        "## **6. Math Functions and Symbols**"
      ]
    },
    {
      "cell_type": "code",
      "execution_count": null,
      "metadata": {
        "id": "rlSgvKG9B9G4",
        "outputId": "47fe97d8-baaf-49f2-f13f-8c140246b4b3",
        "colab": {
          "base_uri": "https://localhost:8080/"
        }
      },
      "outputs": [
        {
          "output_type": "execute_result",
          "data": {
            "text/plain": [
              "3.141592653589793"
            ]
          },
          "metadata": {},
          "execution_count": 59
        }
      ],
      "source": [
        "np.pi"
      ]
    },
    {
      "cell_type": "code",
      "execution_count": null,
      "metadata": {
        "id": "g4uYlM_UB9G4",
        "outputId": "ff334763-649a-49af-9c0f-b7f9c18a132b",
        "colab": {
          "base_uri": "https://localhost:8080/"
        }
      },
      "outputs": [
        {
          "output_type": "stream",
          "name": "stdout",
          "text": [
            "<class 'numpy.ndarray'>\n",
            "[0.         0.31415927 0.62831853 0.9424778  1.25663706 1.57079633\n",
            " 1.88495559 2.19911486 2.51327412 2.82743339 3.14159265 3.45575192\n",
            " 3.76991118 4.08407045 4.39822972 4.71238898 5.02654825 5.34070751\n",
            " 5.65486678 5.96902604]\n",
            "20\n",
            "(20,)\n"
          ]
        }
      ],
      "source": [
        "theta=np.arange(0,2*np.pi,np.pi/10)\n",
        "print(type(theta))\n",
        "print(theta)\n",
        "print(theta.shape)"
      ]
    },
    {
      "cell_type": "code",
      "execution_count": null,
      "metadata": {
        "id": "YCqrzqRXB9G4",
        "outputId": "690f6e5e-53d7-4a54-fd82-57e15ee4eefb",
        "colab": {
          "base_uri": "https://localhost:8080/"
        }
      },
      "outputs": [
        {
          "output_type": "execute_result",
          "data": {
            "text/plain": [
              "array([ 0.00000000e+00,  3.09016994e-01,  5.87785252e-01,  8.09016994e-01,\n",
              "        9.51056516e-01,  1.00000000e+00,  9.51056516e-01,  8.09016994e-01,\n",
              "        5.87785252e-01,  3.09016994e-01,  1.22464680e-16, -3.09016994e-01,\n",
              "       -5.87785252e-01, -8.09016994e-01, -9.51056516e-01, -1.00000000e+00,\n",
              "       -9.51056516e-01, -8.09016994e-01, -5.87785252e-01, -3.09016994e-01])"
            ]
          },
          "metadata": {},
          "execution_count": 62
        }
      ],
      "source": [
        "np.sin(theta)"
      ]
    }
  ],
  "metadata": {
    "kernelspec": {
      "display_name": "Python 3",
      "language": "python",
      "name": "python3"
    },
    "language_info": {
      "codemirror_mode": {
        "name": "ipython",
        "version": 3
      },
      "file_extension": ".py",
      "mimetype": "text/x-python",
      "name": "python",
      "nbconvert_exporter": "python",
      "pygments_lexer": "ipython3",
      "version": "3.7.13"
    },
    "colab": {
      "provenance": [],
      "name": "2_Numpy.ipynb",
      "include_colab_link": true
    }
  },
  "nbformat": 4,
  "nbformat_minor": 0
}